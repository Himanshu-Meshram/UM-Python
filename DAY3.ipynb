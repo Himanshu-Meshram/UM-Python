{
  "nbformat": 4,
  "nbformat_minor": 0,
  "metadata": {
    "colab": {
      "provenance": [],
      "authorship_tag": "ABX9TyMZLBBJMEomq4Vg4H+CSaTB",
      "include_colab_link": true
    },
    "kernelspec": {
      "name": "python3",
      "display_name": "Python 3"
    },
    "language_info": {
      "name": "python"
    }
  },
  "cells": [
    {
      "cell_type": "markdown",
      "metadata": {
        "id": "view-in-github",
        "colab_type": "text"
      },
      "source": [
        "<a href=\"https://colab.research.google.com/github/Himanshu-Meshram/UM-Python/blob/main/DAY3.ipynb\" target=\"_parent\"><img src=\"https://colab.research.google.com/assets/colab-badge.svg\" alt=\"Open In Colab\"/></a>"
      ]
    },
    {
      "cell_type": "markdown",
      "source": [
        "# **Python Functions**\n",
        "\n",
        "\n",
        "*   A function is a block which only runs when it is called.\n",
        "*   Advanced Functions  --\n",
        "* lambda -  A lambda function can take **any number of arguments**, but can only have ***one expression.***\n",
        "* map - used to **pass multiple values** at once.\n",
        "* zip - **combines multiple iterables** such as lists, tuples, strings, dict etc, into **a single iterator of tuple.**\n",
        "\n"
      ],
      "metadata": {
        "id": "9yowMgS9sQlk"
      }
    },
    {
      "cell_type": "code",
      "source": [
        " def function():                                #defining Funciton\n",
        "  print('hello, im a function.')\n"
      ],
      "metadata": {
        "id": "5LT5mfM9gq9y"
      },
      "execution_count": 1,
      "outputs": []
    },
    {
      "cell_type": "code",
      "source": [
        "function()                                      #calling funtion\n"
      ],
      "metadata": {
        "colab": {
          "base_uri": "https://localhost:8080/"
        },
        "id": "c-HBAo7Bhp2Y",
        "outputId": "5f605e4c-6bf9-47e6-ad54-f4f2676bc113"
      },
      "execution_count": 4,
      "outputs": [
        {
          "output_type": "stream",
          "name": "stdout",
          "text": [
            "hello, im a function\n"
          ]
        }
      ]
    },
    {
      "cell_type": "code",
      "source": [
        "#.FUNCTIONS WITH ARGUMENTS.\n",
        "\n",
        "########## need more practice...\n",
        "\n",
        "\n",
        "def id(name):                                   #defining id\n",
        "  print(\"001_\"+ name)                           #entering id\n",
        "id('him')\n",
        "\n",
        "\n",
        "################################################################################\n",
        "################################################################################\n",
        "\n",
        "\n",
        "\n",
        "# def add(a,b,c):                              #ARGUMENTS\n",
        "#   return a+b+c\n",
        "# add (4,5,1)\n",
        "\n",
        "\n",
        "# #\n",
        "\n",
        "\n",
        "# def add(a,b,c):\n",
        "#   return (a+b+c)\n",
        "# add(1,3,3)\n",
        "\n",
        "\n",
        "#\n",
        "\n",
        "\n",
        "# #USING LAMBDA FUNCTION\n",
        "\n",
        "\n",
        "# add = lambda a,b,c: print(a+b+c)\n",
        "# add (5,5,6)\n",
        "\n",
        "\n",
        "# mul = lambda a,b,c: print(c*b*a)\n",
        "# mul(75,5,6)\n",
        "\n",
        "\n",
        "\n",
        "################################################################################\n",
        "################################################################################\n",
        "\n",
        "\n",
        "\n",
        "# MAP FUNCTION\n",
        "\n",
        "\n",
        "nums = [1,2,3,5,6]\n",
        "\n",
        "def sq(n):\n",
        "  return n*n\n",
        "\n",
        "square = map(sq,nums)\n",
        "print(list(square))\n",
        "\n",
        "\n",
        "#\n",
        "\n",
        "\n",
        "marks = [2,6,9,8,6]\n",
        "def sq(n):\n",
        "    return n*n\n",
        "square = map(sq,marks)\n",
        "print(list(square))\n",
        "\n",
        "\n",
        "\n",
        "################################################################################\n",
        "################################################################################\n",
        "\n",
        "\n",
        "\n",
        "#ZIP FUNCTION\n",
        "\n",
        "\n",
        "name = ['him','kopal','khushi','bittu']\n",
        "id = [1,2,3,4]\n",
        "\n",
        "mapped = zip(name,id)\n",
        "print(list(mapped))\n",
        "\n",
        "\n",
        "#\n",
        "\n",
        "\n",
        "emp = ['him','kopal','khushi','bittu']\n",
        "salary = [10000,20000,30000,40000]\n",
        "\n",
        "mapped = zip(emp,salary)\n",
        "print(list(mapped))\n",
        "\n"
      ],
      "metadata": {
        "colab": {
          "base_uri": "https://localhost:8080/"
        },
        "id": "o9NudGFLjrr8",
        "outputId": "97ef365a-6fba-4dd2-afa3-6088a6e261c5"
      },
      "execution_count": 80,
      "outputs": [
        {
          "output_type": "stream",
          "name": "stdout",
          "text": [
            "[1, 4, 9, 25, 36]\n",
            "[4, 36, 81, 64, 36]\n",
            "[('him', 1), ('kopal', 2), ('khushi', 3), ('bittu', 4)]\n",
            "[('him', 10000), ('kopal', 20000), ('khushi', 30000), ('bittu', 40000)]\n"
          ]
        }
      ]
    },
    {
      "cell_type": "markdown",
      "source": [
        "# **Python LOOPs**\n",
        "\n",
        "*   It is used for iterating over a sequence (that is either a list, a tuple, a dictionary, a set or a string)\n",
        "*   Using Break & continue keyword.\n",
        "\n",
        "***WHILE LOOPs***\n",
        "* With the while loop we can execute a set of statements as long as a conditions is true.\n",
        "* Using Break & Continue keyword.\n"
      ],
      "metadata": {
        "id": "7ulrfTfAuZns"
      }
    },
    {
      "cell_type": "code",
      "source": [
        "#                                                     BREAK AND CONTINUE LOOP\n",
        "\n",
        "\n",
        "\n",
        "# fruits = ['apple','mango','banana','oranges','grapes']\n",
        "# for x in fruits:\n",
        "#     print(x)\n",
        "\n",
        "\n",
        "#\n",
        "\n",
        "# fruits = ['apple','mango','banana','oranges','grapes']\n",
        "# for x in fruits:\n",
        "#   print(x)\n",
        "#   if x=='oranges':\n",
        "#     break\n",
        "\n",
        "\n",
        "#\n",
        "\n",
        "\n",
        "\n",
        "# fruits = ['apple','mango','banana','oranges','grapes']\n",
        "# for x in fruits:\n",
        "#   if x=='oranges':\n",
        "#     continue\n",
        "#  print(x)\n",
        "\n",
        "\n",
        "# emp = ['him','khushi','kopal','bittu']\n",
        "# for x in emp:\n",
        "#   if x == 'khushi':\n",
        "#     continue\n",
        "#   print(x)\n",
        "\n",
        "\n",
        "################################################################################\n",
        "################################################################################\n",
        "\n",
        "\n",
        "#                                                          WHILE LOOP\n",
        "\n",
        "# num = 1\n",
        "\n",
        "# while num < 6:\n",
        "#   print(num)\n",
        "#   num += 1                            #adding __ number to the orginal number\n",
        "\n",
        "\n",
        "# num = 1\n",
        "# while num < 5:\n",
        "#   print(num)                                #IN BREAK CONDITION\n",
        "#   if num == 3:                          #print before if statement\n",
        "#     break\n",
        "#   num +=1\n",
        "\n",
        "\n",
        "\n",
        "# num = 1\n",
        "# while num<9:\n",
        "#   print(num)\n",
        "#   if num == 4:\n",
        "#    break\n",
        "#   num +=1\n",
        "\n",
        "\n",
        "\n",
        "# num = 1\n",
        "# while num <6:\n",
        "#     print(num)\n",
        "#     if num == 3:\n",
        "#      break\n",
        "#     num += 1\n",
        "\n",
        "\n",
        "\n",
        "# num = 0\n",
        "# while num < 20:\n",
        "#   num += 1                                  #IN CONTINUE CONDITION\n",
        "#   if num == 9:                          #print before if statement\n",
        "#     continue\n",
        "#   print(num)\n",
        "\n",
        "\n",
        "\n",
        "\n",
        ""
      ],
      "metadata": {
        "colab": {
          "base_uri": "https://localhost:8080/"
        },
        "id": "X2j1oBhKxI8y",
        "outputId": "03941d91-2953-4f4f-a591-7865ebdf1a59"
      },
      "execution_count": 103,
      "outputs": [
        {
          "output_type": "stream",
          "name": "stdout",
          "text": [
            "1\n",
            "2\n",
            "3\n",
            "4\n",
            "5\n",
            "6\n",
            "7\n",
            "8\n",
            "10\n",
            "11\n",
            "12\n",
            "13\n",
            "14\n",
            "15\n",
            "16\n",
            "17\n",
            "18\n",
            "19\n",
            "20\n"
          ]
        }
      ]
    },
    {
      "cell_type": "code",
      "source": [
        "\n",
        "\n"
      ],
      "metadata": {
        "id": "0duebHVH1muX"
      },
      "execution_count": null,
      "outputs": []
    }
  ]
}