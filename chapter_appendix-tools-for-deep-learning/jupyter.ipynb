{
  "cells": [
    {
      "cell_type": "markdown",
      "source": [
        "# Python Baics\n",
        "\n",
        "\n",
        "*   Syntax (Valid & Invalid)\n",
        "*   Comments\n",
        "\n"
      ],
      "metadata": {
        "id": "06h19uNftw80"
      },
      "id": "06h19uNftw80"
    },
    {
      "cell_type": "code",
      "source": [
        "print(\"himanshu\")"
      ],
      "metadata": {
        "id": "qN5RIPg4t_c7",
        "outputId": "91e8d36e-8cbf-457f-ad6b-d2b0f2c69560",
        "colab": {
          "base_uri": "https://localhost:8080/"
        }
      },
      "id": "qN5RIPg4t_c7",
      "execution_count": 2,
      "outputs": [
        {
          "output_type": "stream",
          "name": "stdout",
          "text": [
            "himanshu\n"
          ]
        }
      ]
    },
    {
      "cell_type": "code",
      "source": [
        "name = \"Himanshu\"\n",
        "print(name)"
      ],
      "metadata": {
        "id": "XOL3VLfVuEqb",
        "outputId": "568d9fd9-18a8-4846-80ce-930ef04e9955",
        "colab": {
          "base_uri": "https://localhost:8080/"
        }
      },
      "id": "XOL3VLfVuEqb",
      "execution_count": 4,
      "outputs": [
        {
          "output_type": "stream",
          "name": "stdout",
          "text": [
            "Himanshu\n"
          ]
        }
      ]
    },
    {
      "cell_type": "code",
      "source": [
        "#Invalid\n",
        "name='him'\n",
        "print(him)"
      ],
      "metadata": {
        "id": "tpAg5QhxuEs-",
        "outputId": "5d8322e8-5f6d-41bb-f3c1-89c3b778d04c",
        "colab": {
          "base_uri": "https://localhost:8080/",
          "height": 176
        }
      },
      "id": "tpAg5QhxuEs-",
      "execution_count": 6,
      "outputs": [
        {
          "output_type": "error",
          "ename": "NameError",
          "evalue": "name 'him' is not defined",
          "traceback": [
            "\u001b[0;31m---------------------------------------------------------------------------\u001b[0m",
            "\u001b[0;31mNameError\u001b[0m                                 Traceback (most recent call last)",
            "\u001b[0;32m<ipython-input-6-37fef4f5dd69>\u001b[0m in \u001b[0;36m<cell line: 3>\u001b[0;34m()\u001b[0m\n\u001b[1;32m      1\u001b[0m \u001b[0;31m#Invalid\u001b[0m\u001b[0;34m\u001b[0m\u001b[0;34m\u001b[0m\u001b[0m\n\u001b[1;32m      2\u001b[0m \u001b[0mname\u001b[0m\u001b[0;34m=\u001b[0m\u001b[0;34m'him'\u001b[0m\u001b[0;34m\u001b[0m\u001b[0;34m\u001b[0m\u001b[0m\n\u001b[0;32m----> 3\u001b[0;31m \u001b[0mprint\u001b[0m\u001b[0;34m(\u001b[0m\u001b[0mhim\u001b[0m\u001b[0;34m)\u001b[0m\u001b[0;34m\u001b[0m\u001b[0;34m\u001b[0m\u001b[0m\n\u001b[0m",
            "\u001b[0;31mNameError\u001b[0m: name 'him' is not defined"
          ]
        }
      ]
    },
    {
      "cell_type": "code",
      "source": [
        "# a is admin\n",
        "a='him'\n",
        "print(a)\n"
      ],
      "metadata": {
        "id": "jT4HdZ-XuEvW",
        "outputId": "b6abd246-79a4-4e10-d0d0-18c50880eaf3",
        "colab": {
          "base_uri": "https://localhost:8080/"
        }
      },
      "id": "jT4HdZ-XuEvW",
      "execution_count": 9,
      "outputs": [
        {
          "output_type": "stream",
          "name": "stdout",
          "text": [
            "him\n"
          ]
        }
      ]
    },
    {
      "cell_type": "code",
      "source": [
        "a='him'   # a is admin\n",
        "print(a)\n"
      ],
      "metadata": {
        "id": "04_tyQMhvdcc",
        "outputId": "53ded56e-e8c3-46bc-fcc3-cf0238cf13b8",
        "colab": {
          "base_uri": "https://localhost:8080/"
        }
      },
      "id": "04_tyQMhvdcc",
      "execution_count": 10,
      "outputs": [
        {
          "output_type": "stream",
          "name": "stdout",
          "text": [
            "him\n"
          ]
        }
      ]
    },
    {
      "cell_type": "markdown",
      "source": [
        "\n",
        "\n",
        "---\n",
        "\n"
      ],
      "metadata": {
        "id": "ZeK9ioSkwQHl"
      },
      "id": "ZeK9ioSkwQHl"
    },
    {
      "cell_type": "markdown",
      "source": [
        "# PYTHON VARIABLES\n",
        "\n",
        "---\n",
        "\n",
        "**Python Data Types,type Casting & Variables**\n",
        "*  **Text Type** : str\n",
        "*  **Numeric Types** : int, float\n",
        "*   **Sequence Types** : list,float\n",
        "*   **Mapping Type** : dict\n",
        "*   **Set Type** : set\n",
        "*   **Boolean Type** : bool\n",
        "\n",
        "\n",
        "\n",
        "\n",
        "\n",
        "\n"
      ],
      "metadata": {
        "id": "G0QDzzAtwBBW"
      },
      "id": "G0QDzzAtwBBW"
    },
    {
      "cell_type": "code",
      "source": [
        "str('himanshu')"
      ],
      "metadata": {
        "id": "5OhTT4vpvded",
        "outputId": "0a678280-a6dc-4209-a44c-d67d1ccd5661",
        "colab": {
          "base_uri": "https://localhost:8080/",
          "height": 36
        }
      },
      "id": "5OhTT4vpvded",
      "execution_count": 12,
      "outputs": [
        {
          "output_type": "execute_result",
          "data": {
            "text/plain": [
              "'himanshu'"
            ],
            "application/vnd.google.colaboratory.intrinsic+json": {
              "type": "string"
            }
          },
          "metadata": {},
          "execution_count": 12
        }
      ]
    },
    {
      "cell_type": "code",
      "source": [
        "name = \"Himanshu\"\n",
        "print(name)"
      ],
      "metadata": {
        "id": "lzYCxlu7yU9j",
        "outputId": "f8727d86-ed62-4626-b844-7e37cabbe299",
        "colab": {
          "base_uri": "https://localhost:8080/"
        }
      },
      "id": "lzYCxlu7yU9j",
      "execution_count": 13,
      "outputs": [
        {
          "output_type": "stream",
          "name": "stdout",
          "text": [
            "Himanshu\n"
          ]
        }
      ]
    },
    {
      "cell_type": "code",
      "source": [
        "name = \"Himanshu\"\n",
        "age = 22\n",
        "percentage = 44.5\n",
        "print(age)"
      ],
      "metadata": {
        "id": "X_M13q9eyU_l",
        "outputId": "205f7773-3be7-42b8-8e35-813e27ba859b",
        "colab": {
          "base_uri": "https://localhost:8080/"
        }
      },
      "id": "X_M13q9eyU_l",
      "execution_count": 14,
      "outputs": [
        {
          "output_type": "stream",
          "name": "stdout",
          "text": [
            "22\n"
          ]
        }
      ]
    },
    {
      "cell_type": "code",
      "source": [
        "type (name)\n",
        "type (age)\n",
        "type (percentage)"
      ],
      "metadata": {
        "id": "eY0lHputyT3G",
        "outputId": "cdc25662-fab8-4429-e49e-3a381bc80573",
        "colab": {
          "base_uri": "https://localhost:8080/"
        }
      },
      "id": "eY0lHputyT3G",
      "execution_count": 15,
      "outputs": [
        {
          "output_type": "execute_result",
          "data": {
            "text/plain": [
              "float"
            ]
          },
          "metadata": {},
          "execution_count": 15
        }
      ]
    },
    {
      "cell_type": "code",
      "source": [
        "#string (Data can be changed)\n",
        "\n",
        "student = ('rishika', 21 , 44.500)\n",
        "print (student)"
      ],
      "metadata": {
        "id": "XqtJ7tDUyT5R",
        "outputId": "c8e288a3-400f-4c36-83bc-ee45dd69f99a",
        "colab": {
          "base_uri": "https://localhost:8080/"
        }
      },
      "id": "XqtJ7tDUyT5R",
      "execution_count": 26,
      "outputs": [
        {
          "output_type": "stream",
          "name": "stdout",
          "text": [
            "('rishika', 21, 44.5)\n"
          ]
        }
      ]
    },
    {
      "cell_type": "code",
      "source": [
        "#tuple [Data cant be changed]\n",
        "#USED FOR ID-PASS and etc\n",
        "\n",
        "student1 = ['himanshu', 212121,55487]\n",
        "print (student1)"
      ],
      "metadata": {
        "id": "Z1KekBs7vdhm",
        "outputId": "b01f7a68-c6c2-4b1a-c494-39726ea49564",
        "colab": {
          "base_uri": "https://localhost:8080/"
        }
      },
      "id": "Z1KekBs7vdhm",
      "execution_count": 27,
      "outputs": [
        {
          "output_type": "stream",
          "name": "stdout",
          "text": [
            "['himanshu', 212121, 55487]\n"
          ]
        }
      ]
    },
    {
      "cell_type": "code",
      "source": [
        "type (student)"
      ],
      "metadata": {
        "id": "tWfI5joYvdj3",
        "outputId": "5506f136-f9d6-41d9-99ed-00f86fa82050",
        "colab": {
          "base_uri": "https://localhost:8080/"
        }
      },
      "id": "tWfI5joYvdj3",
      "execution_count": 24,
      "outputs": [
        {
          "output_type": "execute_result",
          "data": {
            "text/plain": [
              "list"
            ]
          },
          "metadata": {},
          "execution_count": 24
        }
      ]
    },
    {
      "cell_type": "code",
      "source": [
        "type (student1)"
      ],
      "metadata": {
        "id": "3cHrd_c1vdqs",
        "outputId": "515015fb-ec50-4409-b593-648f717792f6",
        "colab": {
          "base_uri": "https://localhost:8080/"
        }
      },
      "id": "3cHrd_c1vdqs",
      "execution_count": 25,
      "outputs": [
        {
          "output_type": "execute_result",
          "data": {
            "text/plain": [
              "list"
            ]
          },
          "metadata": {},
          "execution_count": 25
        }
      ]
    },
    {
      "cell_type": "code",
      "source": [
        "student = ('rishika', 21 , 44.500)\n",
        "student1 = ['himanshu', 212121,55487]\n",
        "type (student)"
      ],
      "metadata": {
        "id": "MbRbVi1u1E27",
        "outputId": "966e9a08-705a-4e48-db5b-faf05cd9d9dc",
        "colab": {
          "base_uri": "https://localhost:8080/"
        }
      },
      "id": "MbRbVi1u1E27",
      "execution_count": 31,
      "outputs": [
        {
          "output_type": "execute_result",
          "data": {
            "text/plain": [
              "tuple"
            ]
          },
          "metadata": {},
          "execution_count": 31
        }
      ]
    },
    {
      "cell_type": "code",
      "source": [
        "student = ('rishika', 21 , 44.500)\n",
        "student1 = ['himanshu', 212121,55487]\n",
        "type (student1)"
      ],
      "metadata": {
        "id": "Wts9RH7X11Yq",
        "outputId": "4ed85258-3e10-44e0-e1a4-2ea53b2283b0",
        "colab": {
          "base_uri": "https://localhost:8080/"
        }
      },
      "id": "Wts9RH7X11Yq",
      "execution_count": 32,
      "outputs": [
        {
          "output_type": "execute_result",
          "data": {
            "text/plain": [
              "list"
            ]
          },
          "metadata": {},
          "execution_count": 32
        }
      ]
    },
    {
      "cell_type": "code",
      "source": [
        "range(5)"
      ],
      "metadata": {
        "id": "dDJWlKa316rW",
        "outputId": "c76c685d-02d2-4ede-8761-e62733ef256e",
        "colab": {
          "base_uri": "https://localhost:8080/"
        }
      },
      "id": "dDJWlKa316rW",
      "execution_count": 33,
      "outputs": [
        {
          "output_type": "execute_result",
          "data": {
            "text/plain": [
              "range(0, 5)"
            ]
          },
          "metadata": {},
          "execution_count": 33
        }
      ]
    },
    {
      "cell_type": "code",
      "source": [
        "print(range(5))"
      ],
      "metadata": {
        "id": "hq_AGjRM2FLK",
        "outputId": "39861d8c-996b-4870-8c64-26ac59eccb60",
        "colab": {
          "base_uri": "https://localhost:8080/"
        }
      },
      "id": "hq_AGjRM2FLK",
      "execution_count": 34,
      "outputs": [
        {
          "output_type": "stream",
          "name": "stdout",
          "text": [
            "range(0, 5)\n"
          ]
        }
      ]
    },
    {
      "cell_type": "code",
      "source": [
        "student2 = {'name' : 'Rishu' ,  'age' :21 , 'percentage' : 75.6}\n",
        "print(student2)"
      ],
      "metadata": {
        "id": "VtFtRZdc2NkU",
        "outputId": "318784fb-c945-4590-f777-3622c450a90e",
        "colab": {
          "base_uri": "https://localhost:8080/"
        }
      },
      "id": "VtFtRZdc2NkU",
      "execution_count": 40,
      "outputs": [
        {
          "output_type": "stream",
          "name": "stdout",
          "text": [
            "{'name': 'Rishu', 'age': 21, 'percentage': 75.6}\n"
          ]
        }
      ]
    },
    {
      "cell_type": "code",
      "source": [
        "student2"
      ],
      "metadata": {
        "id": "WxlgLxns2y7_",
        "outputId": "bd429a1a-c386-4df1-e665-184086f7b279",
        "colab": {
          "base_uri": "https://localhost:8080/"
        }
      },
      "id": "WxlgLxns2y7_",
      "execution_count": 41,
      "outputs": [
        {
          "output_type": "execute_result",
          "data": {
            "text/plain": [
              "{'name': 'Rishu', 'age': 21, 'percentage': 75.6}"
            ]
          },
          "metadata": {},
          "execution_count": 41
        }
      ]
    },
    {
      "cell_type": "code",
      "source": [
        "#KEYS() -- USED TO GET PARAMETERS\n",
        "student2.keys()"
      ],
      "metadata": {
        "id": "pO2S14K13zci",
        "outputId": "221b6057-579b-43f2-d76e-4e22f0f82f6a",
        "colab": {
          "base_uri": "https://localhost:8080/"
        }
      },
      "id": "pO2S14K13zci",
      "execution_count": 45,
      "outputs": [
        {
          "output_type": "execute_result",
          "data": {
            "text/plain": [
              "dict_keys(['name', 'age', 'percentage'])"
            ]
          },
          "metadata": {},
          "execution_count": 45
        }
      ]
    },
    {
      "cell_type": "code",
      "source": [
        "#USED TO GET THE VALUES STORED IN THE ATTRIBUTES\n",
        "student2.values()"
      ],
      "metadata": {
        "id": "-Zjwvp-G39Qy",
        "outputId": "2b444ed0-3d8e-457d-8f60-3d0970c54053",
        "colab": {
          "base_uri": "https://localhost:8080/"
        }
      },
      "id": "-Zjwvp-G39Qy",
      "execution_count": 48,
      "outputs": [
        {
          "output_type": "execute_result",
          "data": {
            "text/plain": [
              "dict_values(['Rishu', 21, 75.6])"
            ]
          },
          "metadata": {},
          "execution_count": 48
        }
      ]
    },
    {
      "cell_type": "code",
      "source": [
        "student = ('rishika', 21 , 44.5)            #List()               #Cannot modify\n",
        "student1 = ['himanshu', 212121,55487]       #tuple[]              #Can Modify\n",
        "student2 = {'Rishu' ,21 , 75.6}             #set{}                #random sequence output"
      ],
      "metadata": {
        "id": "CGLNxlFv4cMG"
      },
      "id": "CGLNxlFv4cMG",
      "execution_count": 49,
      "outputs": []
    },
    {
      "cell_type": "code",
      "source": [
        "type (student2)"
      ],
      "metadata": {
        "id": "U6i1JgE9546w",
        "outputId": "9dd58ca3-8228-4630-f64e-9c1d3c6eb840",
        "colab": {
          "base_uri": "https://localhost:8080/"
        }
      },
      "id": "U6i1JgE9546w",
      "execution_count": 50,
      "outputs": [
        {
          "output_type": "execute_result",
          "data": {
            "text/plain": [
              "set"
            ]
          },
          "metadata": {},
          "execution_count": 50
        }
      ]
    },
    {
      "cell_type": "code",
      "source": [
        "#BOOLEAN                                     #show the true and false statements\n",
        "bool(1)"
      ],
      "metadata": {
        "id": "4-0tQM4w59EY",
        "outputId": "416617a4-4be5-4c58-9adf-575386cbf77d",
        "colab": {
          "base_uri": "https://localhost:8080/"
        }
      },
      "id": "4-0tQM4w59EY",
      "execution_count": 54,
      "outputs": [
        {
          "output_type": "execute_result",
          "data": {
            "text/plain": [
              "True"
            ]
          },
          "metadata": {},
          "execution_count": 54
        }
      ]
    },
    {
      "cell_type": "code",
      "source": [
        "bool(5)"
      ],
      "metadata": {
        "id": "oSwTGVs06iie",
        "outputId": "8051ce1e-8dec-4086-c79b-71e1dfca7c80",
        "colab": {
          "base_uri": "https://localhost:8080/"
        }
      },
      "id": "oSwTGVs06iie",
      "execution_count": 55,
      "outputs": [
        {
          "output_type": "execute_result",
          "data": {
            "text/plain": [
              "True"
            ]
          },
          "metadata": {},
          "execution_count": 55
        }
      ]
    },
    {
      "cell_type": "code",
      "source": [
        "bool(0)"
      ],
      "metadata": {
        "id": "xepdOQMT6w8p",
        "outputId": "614f50fe-2db3-4bc3-d47e-327bd8b2e015",
        "colab": {
          "base_uri": "https://localhost:8080/"
        }
      },
      "id": "xepdOQMT6w8p",
      "execution_count": 56,
      "outputs": [
        {
          "output_type": "execute_result",
          "data": {
            "text/plain": [
              "False"
            ]
          },
          "metadata": {},
          "execution_count": 56
        }
      ]
    },
    {
      "cell_type": "code",
      "source": [
        "bool(.1)"
      ],
      "metadata": {
        "id": "qVjY4uBI6yd0",
        "outputId": "f8aa0be9-e19d-4fcd-d222-d810f28af8c4",
        "colab": {
          "base_uri": "https://localhost:8080/"
        }
      },
      "id": "qVjY4uBI6yd0",
      "execution_count": 57,
      "outputs": [
        {
          "output_type": "execute_result",
          "data": {
            "text/plain": [
              "True"
            ]
          },
          "metadata": {},
          "execution_count": 57
        }
      ]
    },
    {
      "cell_type": "code",
      "source": [
        "bool(0.1)"
      ],
      "metadata": {
        "id": "jYtUHMNT616x",
        "outputId": "468f4197-5e00-4ea2-805d-3ce427991bb2",
        "colab": {
          "base_uri": "https://localhost:8080/"
        }
      },
      "id": "jYtUHMNT616x",
      "execution_count": 58,
      "outputs": [
        {
          "output_type": "execute_result",
          "data": {
            "text/plain": [
              "True"
            ]
          },
          "metadata": {},
          "execution_count": 58
        }
      ]
    },
    {
      "cell_type": "code",
      "source": [
        "bool(0)"
      ],
      "metadata": {
        "id": "AuUUz6Py67JY",
        "outputId": "2bb91338-7f4b-4269-ffa6-ddf1a110e34a",
        "colab": {
          "base_uri": "https://localhost:8080/"
        }
      },
      "id": "AuUUz6Py67JY",
      "execution_count": 59,
      "outputs": [
        {
          "output_type": "execute_result",
          "data": {
            "text/plain": [
              "False"
            ]
          },
          "metadata": {},
          "execution_count": 59
        }
      ]
    },
    {
      "cell_type": "code",
      "source": [
        "bool(-8)"
      ],
      "metadata": {
        "id": "vCWk4Qk-6941",
        "outputId": "4054473c-b4a5-462f-b7fc-649824dbca3d",
        "colab": {
          "base_uri": "https://localhost:8080/"
        }
      },
      "id": "vCWk4Qk-6941",
      "execution_count": 60,
      "outputs": [
        {
          "output_type": "execute_result",
          "data": {
            "text/plain": [
              "True"
            ]
          },
          "metadata": {},
          "execution_count": 60
        }
      ]
    },
    {
      "cell_type": "code",
      "source": [],
      "metadata": {
        "id": "NLlSBo166_-O"
      },
      "id": "NLlSBo166_-O",
      "execution_count": null,
      "outputs": []
    },
    {
      "cell_type": "markdown",
      "source": [
        "# **OPERATORS**\n",
        "\n",
        "\n",
        "1.   Aritmetic Operators\n",
        "2.   Assignment Operators\n",
        "3.   Comparison Operators\n",
        "4.   Logical Operators\n",
        "5.   Membership Operators\n",
        "\n"
      ],
      "metadata": {
        "id": "nM8UnDLE7LrD"
      },
      "id": "nM8UnDLE7LrD"
    },
    {
      "cell_type": "markdown",
      "source": [
        "***Arithmatic Operators***   (+,-,/,x,%,**)\n",
        "\n",
        "*   Used for numeric values and common mathematical calculations.\n",
        "\n",
        "\n"
      ],
      "metadata": {
        "id": "TAS7Jnjh7_2R"
      },
      "id": "TAS7Jnjh7_2R"
    },
    {
      "cell_type": "code",
      "source": [
        "x=2\n",
        "y=5\n",
        "print(x+y)\n",
        "print(x*y)"
      ],
      "metadata": {
        "id": "61hTTJ3E8d0m",
        "outputId": "4b126653-2e2e-42c5-842d-ee8a248a43d3",
        "colab": {
          "base_uri": "https://localhost:8080/"
        }
      },
      "id": "61hTTJ3E8d0m",
      "execution_count": 62,
      "outputs": [
        {
          "output_type": "stream",
          "name": "stdout",
          "text": [
            "7\n",
            "10\n"
          ]
        }
      ]
    },
    {
      "cell_type": "code",
      "source": [
        "print(x+y,x-y,x*y,x/y,x%y)"
      ],
      "metadata": {
        "id": "ely3nayR8MGe",
        "outputId": "eccde0ab-af37-4059-8471-71aec02b4a87",
        "colab": {
          "base_uri": "https://localhost:8080/"
        }
      },
      "id": "ely3nayR8MGe",
      "execution_count": 65,
      "outputs": [
        {
          "output_type": "stream",
          "name": "stdout",
          "text": [
            "7 -3 10 0.4 2\n"
          ]
        }
      ]
    },
    {
      "cell_type": "code",
      "source": [
        "type (x/y)"
      ],
      "metadata": {
        "id": "eKfOLLe78IpX",
        "outputId": "fec89d5d-bddf-4476-bacd-72f36cb43c3d",
        "colab": {
          "base_uri": "https://localhost:8080/"
        }
      },
      "id": "eKfOLLe78IpX",
      "execution_count": 64,
      "outputs": [
        {
          "output_type": "execute_result",
          "data": {
            "text/plain": [
              "float"
            ]
          },
          "metadata": {},
          "execution_count": 64
        }
      ]
    },
    {
      "cell_type": "code",
      "source": [
        "print(x%y)"
      ],
      "metadata": {
        "id": "zuYc57hv9X7s",
        "outputId": "f68c3af8-deb6-473b-bec6-a16b1597b2e5",
        "colab": {
          "base_uri": "https://localhost:8080/"
        }
      },
      "id": "zuYc57hv9X7s",
      "execution_count": 66,
      "outputs": [
        {
          "output_type": "stream",
          "name": "stdout",
          "text": [
            "2\n"
          ]
        }
      ]
    },
    {
      "cell_type": "code",
      "source": [],
      "metadata": {
        "id": "MG880r5S-Jh2"
      },
      "id": "MG880r5S-Jh2",
      "execution_count": null,
      "outputs": []
    }
  ],
  "metadata": {
    "kernelspec": {
      "display_name": "Python 3",
      "name": "python3"
    },
    "language_info": {
      "name": "python"
    },
    "required_libs": [],
    "colab": {
      "provenance": []
    }
  },
  "nbformat": 4,
  "nbformat_minor": 5
}