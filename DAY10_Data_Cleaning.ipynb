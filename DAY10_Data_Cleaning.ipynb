{
  "nbformat": 4,
  "nbformat_minor": 0,
  "metadata": {
    "colab": {
      "provenance": [],
      "mount_file_id": "1b3OH4PswImIwv-BCYmMv7LYmOsQoOhZO",
      "authorship_tag": "ABX9TyMfadzflqTkPfXKFa1PZ9zi",
      "include_colab_link": true
    },
    "kernelspec": {
      "name": "python3",
      "display_name": "Python 3"
    },
    "language_info": {
      "name": "python"
    }
  },
  "cells": [
    {
      "cell_type": "markdown",
      "metadata": {
        "id": "view-in-github",
        "colab_type": "text"
      },
      "source": [
        "<a href=\"https://colab.research.google.com/github/Himanshu-Meshram/UM-Python/blob/main/DAY10_Data_Cleaning.ipynb\" target=\"_parent\"><img src=\"https://colab.research.google.com/assets/colab-badge.svg\" alt=\"Open In Colab\"/></a>"
      ]
    },
    {
      "cell_type": "markdown",
      "source": [
        "# **DATA CLEANING**\n",
        "\n",
        "*   data.shape\n",
        "*   data.describe()\n",
        "*   list.data()\n",
        "*   isnull()\n",
        "*   (data[columns[1:6]]==0).sum()\n",
        "*   data[columns[1:6]].replace(0,np.nan)\n",
        "*   data.dropna(inplace=True)\n",
        "\n"
      ],
      "metadata": {
        "id": "jly1uBLfUSB6"
      }
    },
    {
      "cell_type": "code",
      "source": [
        "import numpy as np                                                            ##------- Importing Libraries\n",
        "import pandas as pd\n",
        "\n",
        "\n",
        "data = pd.read_csv('/content/diabetes.csv')                                   ##------- Reading data\n",
        "data.head()\n",
        "\n",
        "### selected_columns = (['Name of Institute','Trade/Course','Age','DOB'])\n",
        "### selected_columns_data = data[selected_columns]\n",
        "### selected_columns_data.head()\n",
        "\n",
        "\n",
        "                                                                              ##------ Total Rows & Columns\n",
        "\n",
        "# data.shape\n",
        "\n",
        "\n",
        "\n",
        "                                                                              ##------ Basic Statistics\n",
        "\n",
        "# data.describe()                                                                                       ## basic statistics of the data\n",
        "\n",
        "\n",
        "\n",
        "####----------------------------------------------------------------------------------------------------------------------------------------------------------------------------------------------\n",
        "\n",
        "\n",
        "                                                                             ## ------ Replacing 0 with NAN\n",
        "\n",
        "\n",
        "                                                                                ## ALL COLUMNS\n",
        "\n",
        "# list(data)\n",
        "\n",
        "columns = list (data)\n",
        "# columns\n",
        "\n",
        "\n",
        "                                                                             ## ------ Checking Null values (_)\n",
        "\n",
        "\n",
        "\n",
        "                                                                          ## Null values doesnt count 0 as null\n",
        "\n",
        "\n",
        "\n",
        "# data.isnull()                                                                                             ## shows for each row\n",
        "# data.isnull().sum()                                                                                       ## shows for whole data\n",
        "\n",
        "\n",
        "\n",
        "                                                 ## Calculating total no. of Zeroes in Glucose, BloodPressure, SkinThickness, Insulin and BMI\n",
        "\n",
        "### (data==0)\n",
        "\n",
        "\n",
        "\n",
        "                                                         ## Shows 0 values in every columns\n",
        "\n",
        "#(data==0).sum()                                                                                        ## syntax  (-variable_name- == -value-).sum()\n",
        "\n",
        "                                                        ##  Shows 0 values in defined columns\n",
        "\n",
        "# (data[columns[1:6]]==0).sum()                                                                         ## syntax   (-variable_name-[columns[-eg. 1:3 -]] == 0).sum()\n",
        "\n",
        "### (data[columns[1:6]]==1).sum()\n",
        "###(data[columns[1:6]]==2).sum()\n",
        "###(data[columns[1:5]]==0).sum()\n",
        "\n",
        "\n",
        "\n",
        "                                                                             ## ------ Replacing NAN values\n",
        "\n",
        "data[columns[1:6]].replace(0,np.nan)\n",
        "\n",
        "\n",
        "# data[columns[1:6]] = data[columns[1:6]].replace(0,np.nan)\n",
        "### data[columns[1:6]].replace(0,np.nan)\n",
        "\n",
        "\n",
        "                                                                                  ## Checking Null values\n",
        "data.isnull().sum()\n",
        "\n",
        "\n",
        "####----------------------------------------------------------------------------------------------------------------------------------------------------------------------------------------------\n",
        "\n",
        "                                                                             ## ------DROPING EMPTY ROWs\n",
        "\n",
        "data.dropna(inplace=True)\n",
        "\n",
        "data.shape\n"
      ],
      "metadata": {
        "colab": {
          "base_uri": "https://localhost:8080/"
        },
        "id": "vnIYQ2KaVZtS",
        "outputId": "5307e2b5-794c-4923-97d3-28083674c34f"
      },
      "execution_count": null,
      "outputs": [
        {
          "output_type": "execute_result",
          "data": {
            "text/plain": [
              "(768, 9)"
            ]
          },
          "metadata": {},
          "execution_count": 6
        }
      ]
    },
    {
      "cell_type": "markdown",
      "source": [
        "# **Dealing with Missing Values**\n",
        "\n",
        "Imputation Techniques\n",
        "\n",
        "\n",
        "*   SEABORN Library : used to create charts and visualisation.\n",
        "\n",
        "\n",
        "*   Mean,Median,Mode\n"
      ],
      "metadata": {
        "id": "RvtHlvpK_TBS"
      }
    },
    {
      "cell_type": "markdown",
      "source": [
        "*  if the graph is evenly distributed than graph is **normal Distribution**. Here we use **Mean Technique**"
      ],
      "metadata": {
        "id": "5zsBvPG5dL8p"
      }
    },
    {
      "cell_type": "code",
      "source": [
        "# import pandas as pd\n",
        "# data = pd.read_csv('/content/diabetes.csv')\n",
        "# data.head()\n",
        "\n",
        "\n",
        "\n",
        "#                                                                                 ##   Checking Empty Values\n",
        "# # data.isnull().sum()\n",
        "# ### data.isnull().sum(1)\n",
        "# ### data.isnull().sum(2)\n",
        "\n",
        "\n",
        "#                                                                                 ### SEABORN LIBRARY.............!\n",
        "\n",
        "import seaborn as sns\n",
        "\n",
        "\n",
        "# ###  \"\"Distribution Plot\"\" to identify which Technique to use.\n",
        "\n",
        "# # sns.distplot(data['Insulin'])\n",
        "# ## sns.displot(data['Pregnancies'])\n",
        "# ## sns.distplot(data['Age'])\n",
        "\n",
        "\n",
        "\n",
        "\n"
      ],
      "metadata": {
        "colab": {
          "base_uri": "https://localhost:8080/",
          "height": 366
        },
        "id": "oqipopSuWGAy",
        "outputId": "45c938bf-0589-4f1d-8cf3-ed17edb301b1"
      },
      "execution_count": 30,
      "outputs": [
        {
          "output_type": "execute_result",
          "data": {
            "text/plain": [
              "Pregnancies                 0\n",
              "Glucose                     0\n",
              "BloodPressure               0\n",
              "SkinThickness               0\n",
              "Insulin                     0\n",
              "BMI                         0\n",
              "DiabetesPedigreeFunction    0\n",
              "Age                         0\n",
              "Outcome                     0\n",
              "dtype: int64"
            ],
            "text/html": [
              "<div>\n",
              "<style scoped>\n",
              "    .dataframe tbody tr th:only-of-type {\n",
              "        vertical-align: middle;\n",
              "    }\n",
              "\n",
              "    .dataframe tbody tr th {\n",
              "        vertical-align: top;\n",
              "    }\n",
              "\n",
              "    .dataframe thead th {\n",
              "        text-align: right;\n",
              "    }\n",
              "</style>\n",
              "<table border=\"1\" class=\"dataframe\">\n",
              "  <thead>\n",
              "    <tr style=\"text-align: right;\">\n",
              "      <th></th>\n",
              "      <th>0</th>\n",
              "    </tr>\n",
              "  </thead>\n",
              "  <tbody>\n",
              "    <tr>\n",
              "      <th>Pregnancies</th>\n",
              "      <td>0</td>\n",
              "    </tr>\n",
              "    <tr>\n",
              "      <th>Glucose</th>\n",
              "      <td>0</td>\n",
              "    </tr>\n",
              "    <tr>\n",
              "      <th>BloodPressure</th>\n",
              "      <td>0</td>\n",
              "    </tr>\n",
              "    <tr>\n",
              "      <th>SkinThickness</th>\n",
              "      <td>0</td>\n",
              "    </tr>\n",
              "    <tr>\n",
              "      <th>Insulin</th>\n",
              "      <td>0</td>\n",
              "    </tr>\n",
              "    <tr>\n",
              "      <th>BMI</th>\n",
              "      <td>0</td>\n",
              "    </tr>\n",
              "    <tr>\n",
              "      <th>DiabetesPedigreeFunction</th>\n",
              "      <td>0</td>\n",
              "    </tr>\n",
              "    <tr>\n",
              "      <th>Age</th>\n",
              "      <td>0</td>\n",
              "    </tr>\n",
              "    <tr>\n",
              "      <th>Outcome</th>\n",
              "      <td>0</td>\n",
              "    </tr>\n",
              "  </tbody>\n",
              "</table>\n",
              "</div><br><label><b>dtype:</b> int64</label>"
            ]
          },
          "metadata": {},
          "execution_count": 30
        }
      ]
    },
    {
      "cell_type": "markdown",
      "source": [
        "# **Mean Technique**\n",
        "*   FOR NUMERIC DATA.\n",
        "*   If the graph is evenly distributed than graph is **normal Distribution**.\n",
        "*  Here we use **Mean Technique**"
      ],
      "metadata": {
        "id": "L6wCFm28dZM9"
      }
    },
    {
      "cell_type": "code",
      "source": [
        "# ###-------------------------------------------------------------------------------------------------------------------------------------------------------------------------------------------------------------------------\n",
        "#                                                                   ##  ---- MEAN METHOD ------\n",
        "# ###-------------------------------------------------------------------------------------------------------------------------------------------------------------------------------------------------------------------------\n",
        "\n",
        "\n",
        "\n",
        "#                                                                                 ###----- Fillna Method using Mean\n",
        "#                                                                                 ### ---- Fill-NA\n",
        "#                                                                                 ###----- Replacing NAN values\n",
        "\n",
        "# col = data['Insulin']\n",
        "# Ins = col.fillna(col.mean(),inplace = True)                                               ##   syntax   -variable-= -variable-.fillna(-variable-.mean())\n",
        "#                                                                                           ##   syntax   -variable-= -variable-.fillna(-variable-.mean(),inplace=True)\n",
        "\n",
        "\n",
        "#                                                                                 ###  After Fillna Method\n",
        "\n",
        "# data.isnull().sum()\n",
        "\n",
        "#######-------------------------------------------------------------------------------------------------------------------------------------------------------------------------------------------------------------------------\n",
        "\n",
        "### col = data['Insulin']\n",
        "### col = col.fillna(col.mean(),inplace = True)\n",
        "### data.isnull().sum()\n",
        "\n",
        "### col = data['Insulin']\n",
        "### col = col.fillna(col.mean(),inplace = True)\n",
        "### data.isnull().sum()\n"
      ],
      "metadata": {
        "id": "Z7E2OxyPda7N"
      },
      "execution_count": null,
      "outputs": []
    },
    {
      "cell_type": "markdown",
      "source": [
        "#   **Median Technique**\n",
        "   * FOR NUMERIC DATA.\n",
        "   *  If the graph is on either on the *Extreme Left or Extreme Right* side on the plane than line is called **Outliers**.\n",
        "   *  Here we use **Median Technique**\n",
        "   *  Left Squed value./ Right Squed value."
      ],
      "metadata": {
        "id": "dY2OUk0Udd42"
      }
    },
    {
      "cell_type": "code",
      "source": [
        "\n",
        "# ###-------------------------------------------------------------------------------------------------------------------------------------------------------------------------------------------------------------------------\n",
        "#                                                                 ##  ---- MEDIAN METHOD ------\n",
        "# ###-------------------------------------------------------------------------------------------------------------------------------------------------------------------------------------------------------------------------\n",
        "\n",
        "\n",
        "# ## Distribution plot to identify which technique to use\n",
        "# data = pd.read_csv('/content/diabetes.csv')\n",
        "# # data.head()\n",
        "\n",
        "# sns.displot(data['Age'])\n",
        "\n",
        "\n",
        "\n",
        "# #                                                                                 ###----- Fillna Method using Median\n",
        "# #                                                                                 ### ---- Fill-NA\n",
        "# #                                                                                 ###----- Replacing NAN values\n",
        "\n",
        "\n",
        "# col1 = data['Age']\n",
        "# cal1 = col1.fillna(col1.median(),inplace = True)\n",
        "# data.isnull().sum()\n",
        "\n",
        "\n"
      ],
      "metadata": {
        "id": "FSYEdOp3CtZ2",
        "colab": {
          "base_uri": "https://localhost:8080/",
          "height": 855
        },
        "outputId": "a064065f-5815-4b18-b83b-c7e8565f9ea0"
      },
      "execution_count": 41,
      "outputs": [
        {
          "output_type": "execute_result",
          "data": {
            "text/plain": [
              "Pregnancies                 0\n",
              "Glucose                     0\n",
              "BloodPressure               0\n",
              "SkinThickness               0\n",
              "Insulin                     0\n",
              "BMI                         0\n",
              "DiabetesPedigreeFunction    0\n",
              "Age                         0\n",
              "Outcome                     0\n",
              "dtype: int64"
            ],
            "text/html": [
              "<div>\n",
              "<style scoped>\n",
              "    .dataframe tbody tr th:only-of-type {\n",
              "        vertical-align: middle;\n",
              "    }\n",
              "\n",
              "    .dataframe tbody tr th {\n",
              "        vertical-align: top;\n",
              "    }\n",
              "\n",
              "    .dataframe thead th {\n",
              "        text-align: right;\n",
              "    }\n",
              "</style>\n",
              "<table border=\"1\" class=\"dataframe\">\n",
              "  <thead>\n",
              "    <tr style=\"text-align: right;\">\n",
              "      <th></th>\n",
              "      <th>0</th>\n",
              "    </tr>\n",
              "  </thead>\n",
              "  <tbody>\n",
              "    <tr>\n",
              "      <th>Pregnancies</th>\n",
              "      <td>0</td>\n",
              "    </tr>\n",
              "    <tr>\n",
              "      <th>Glucose</th>\n",
              "      <td>0</td>\n",
              "    </tr>\n",
              "    <tr>\n",
              "      <th>BloodPressure</th>\n",
              "      <td>0</td>\n",
              "    </tr>\n",
              "    <tr>\n",
              "      <th>SkinThickness</th>\n",
              "      <td>0</td>\n",
              "    </tr>\n",
              "    <tr>\n",
              "      <th>Insulin</th>\n",
              "      <td>0</td>\n",
              "    </tr>\n",
              "    <tr>\n",
              "      <th>BMI</th>\n",
              "      <td>0</td>\n",
              "    </tr>\n",
              "    <tr>\n",
              "      <th>DiabetesPedigreeFunction</th>\n",
              "      <td>0</td>\n",
              "    </tr>\n",
              "    <tr>\n",
              "      <th>Age</th>\n",
              "      <td>0</td>\n",
              "    </tr>\n",
              "    <tr>\n",
              "      <th>Outcome</th>\n",
              "      <td>0</td>\n",
              "    </tr>\n",
              "  </tbody>\n",
              "</table>\n",
              "</div><br><label><b>dtype:</b> int64</label>"
            ]
          },
          "metadata": {},
          "execution_count": 41
        },
        {
          "output_type": "display_data",
          "data": {
            "text/plain": [
              "<Figure size 500x500 with 1 Axes>"
            ],
            "image/png": "[encoded data removed]"
          },
          "metadata": {}
        }
      ]
    },
    {
      "cell_type": "markdown",
      "source": [
        "# **Mode Technique**\n",
        "   *  Whenever we have to use **object or String**.\n",
        "   *  Here we use **Mode Technique**"
      ],
      "metadata": {
        "id": "ZmqoCI3mfZzx"
      }
    },
    {
      "cell_type": "code",
      "source": [
        "\n",
        "# ###-------------------------------------------------------------------------------------------------------------------------------------------------------------------------------------------------------------------------\n",
        "#                                                                 ##  ---- MEDIAN METHOD ------\n",
        "# ###-------------------------------------------------------------------------------------------------------------------------------------------------------------------------------------------------------------------------\n",
        "\n",
        "\n",
        "\n",
        "data1 = pd.read_csv('/content/Sample Centre Data (2)..csv')\n",
        "data1.head()\n",
        "\n",
        "# import seaborn as sns\n",
        "\n",
        "                                                                                ### sns.distplot(data1['Name of Institute'])\n",
        "\n",
        "col = data1['Name of Institute']\n",
        "\n",
        "col = col.fillna(col.mode(),inplace = True)\n",
        "data1.isnull().sum()\n",
        "\n",
        "\n"
      ],
      "metadata": {
        "colab": {
          "base_uri": "https://localhost:8080/",
          "height": 366
        },
        "id": "J5YHF7ctbtCL",
        "outputId": "0673a305-e413-4946-c20e-7175945255ec"
      },
      "execution_count": 59,
      "outputs": [
        {
          "output_type": "execute_result",
          "data": {
            "text/plain": [
              "Name of Institute        0\n",
              "Trade/Course             0\n",
              "Month (Batch Start)    257\n",
              "Year (Batch Start)       0\n",
              "Month (Batch End)      257\n",
              "Year (Batch End)         0\n",
              "User Id                  0\n",
              "Age                      0\n",
              "DOB                      0\n",
              "dtype: int64"
            ],
            "text/html": [
              "<div>\n",
              "<style scoped>\n",
              "    .dataframe tbody tr th:only-of-type {\n",
              "        vertical-align: middle;\n",
              "    }\n",
              "\n",
              "    .dataframe tbody tr th {\n",
              "        vertical-align: top;\n",
              "    }\n",
              "\n",
              "    .dataframe thead th {\n",
              "        text-align: right;\n",
              "    }\n",
              "</style>\n",
              "<table border=\"1\" class=\"dataframe\">\n",
              "  <thead>\n",
              "    <tr style=\"text-align: right;\">\n",
              "      <th></th>\n",
              "      <th>0</th>\n",
              "    </tr>\n",
              "  </thead>\n",
              "  <tbody>\n",
              "    <tr>\n",
              "      <th>Name of Institute</th>\n",
              "      <td>0</td>\n",
              "    </tr>\n",
              "    <tr>\n",
              "      <th>Trade/Course</th>\n",
              "      <td>0</td>\n",
              "    </tr>\n",
              "    <tr>\n",
              "      <th>Month (Batch Start)</th>\n",
              "      <td>257</td>\n",
              "    </tr>\n",
              "    <tr>\n",
              "      <th>Year (Batch Start)</th>\n",
              "      <td>0</td>\n",
              "    </tr>\n",
              "    <tr>\n",
              "      <th>Month (Batch End)</th>\n",
              "      <td>257</td>\n",
              "    </tr>\n",
              "    <tr>\n",
              "      <th>Year (Batch End)</th>\n",
              "      <td>0</td>\n",
              "    </tr>\n",
              "    <tr>\n",
              "      <th>User Id</th>\n",
              "      <td>0</td>\n",
              "    </tr>\n",
              "    <tr>\n",
              "      <th>Age</th>\n",
              "      <td>0</td>\n",
              "    </tr>\n",
              "    <tr>\n",
              "      <th>DOB</th>\n",
              "      <td>0</td>\n",
              "    </tr>\n",
              "  </tbody>\n",
              "</table>\n",
              "</div><br><label><b>dtype:</b> int64</label>"
            ]
          },
          "metadata": {},
          "execution_count": 59
        }
      ]
    },
    {
      "cell_type": "code",
      "source": [],
      "metadata": {
        "id": "ds47nEY-fo7T"
      },
      "execution_count": null,
      "outputs": []
    }
  ]
}