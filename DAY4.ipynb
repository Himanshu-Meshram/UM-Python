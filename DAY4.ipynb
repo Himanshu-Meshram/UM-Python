{
  "nbformat": 4,
  "nbformat_minor": 0,
  "metadata": {
    "colab": {
      "provenance": [],
      "authorship_tag": "ABX9TyN/bKAsV4h9j7AVycqW/AVF",
      "include_colab_link": true
    },
    "kernelspec": {
      "name": "python3",
      "display_name": "Python 3"
    },
    "language_info": {
      "name": "python"
    }
  },
  "cells": [
    {
      "cell_type": "markdown",
      "metadata": {
        "id": "view-in-github",
        "colab_type": "text"
      },
      "source": [
        "<a href=\"https://colab.research.google.com/github/Himanshu-Meshram/UM-Python/blob/main/DAY4.ipynb\" target=\"_parent\"><img src=\"https://colab.research.google.com/assets/colab-badge.svg\" alt=\"Open In Colab\"/></a>"
      ]
    },
    {
      "cell_type": "markdown",
      "source": [
        "# **TUPLE** ()\n",
        "\n",
        "\n",
        "* They are used to store multiple items in a single variable.\n",
        "* A tuple is a collection which is ordered and unchangeable. It is written with round brackets.\n",
        "\n",
        "*Methods*\n",
        "\n",
        "\n",
        "*   Count Method\n",
        "*   Index Method\n",
        "*   Min() & Max()\n",
        "\n",
        "\n"
      ],
      "metadata": {
        "id": "c7nO68jKp8rX"
      }
    },
    {
      "cell_type": "code",
      "source": [
        "# fruits = ('apple','mango','cherry','banana','grapes')               # Simple Method\n",
        "# print(fruits)\n",
        "\n",
        "\n",
        "\n",
        "# fruits = ('mango','cherry','banana','apple')                        #Allows Duplicate\n",
        "# print(fruits)\n",
        "\n",
        "\n",
        "\n",
        "#\n",
        "\n",
        "\n",
        "\n",
        "# #count() Method\n",
        "\n",
        "# nums = (1,2,3,6,5,4,8,9,7,5,1,5,6,5,4,5,8,5)\n",
        "# nums.count(5)\n",
        "\n",
        "\n",
        "#index() Method                                                     #counts from 0\n",
        "\n",
        "nums = (1,2,3,6,5,4,8,9,7,5,1,5,6,5,4,5,8,5)\n",
        "nums.index(4)\n",
        "\n",
        "\n",
        "\n",
        "# min() & max() Method\n",
        "\n",
        "nums = (1,2,3,6,5,4,8,9,7,5,1,5,6,5,4,5,8,5)\n",
        "\n",
        "\n"
      ],
      "metadata": {
        "colab": {
          "base_uri": "https://localhost:8080/"
        },
        "id": "tDPT3wtTskUI",
        "outputId": "034518d4-2cbd-4c41-8106-1dc308fdfd9b"
      },
      "execution_count": 6,
      "outputs": [
        {
          "output_type": "execute_result",
          "data": {
            "text/plain": [
              "5"
            ]
          },
          "metadata": {},
          "execution_count": 6
        }
      ]
    },
    {
      "cell_type": "markdown",
      "source": [
        "# **DICTIONARY** {}\n",
        "\n",
        "\n",
        "*   Dictionaries are used to store values in key:values pairs.\n",
        "*   A dictionary is a collection which is ordered*, changeable, and do not allows duplicates\n",
        "\n",
        "\n",
        "*Methods*\n",
        "\n",
        "\n",
        "1.   get()\n",
        "2.   items()\n",
        "3.   keys()\n",
        "4.   values()\n",
        "5.   pop()\n",
        "6.   update()\n",
        "7.   clear()\n",
        "\n",
        "\n"
      ],
      "metadata": {
        "id": "vGJamp6g0DiC"
      }
    },
    {
      "cell_type": "code",
      "source": [
        "# car = {\"brand\":\"ford\",\"model\":\"mustang\",\"year\":1969}\n",
        "# print(car)\n",
        "\n",
        "\n",
        "## #Get() Method                                                   # Ask keys get values\n",
        "# car.get(\"brand\")\n",
        "\n",
        "\n",
        "\n",
        "\n",
        "## #items() Method                                                 # get keys & values stored in dict.\n",
        "# car.items()\n",
        "\n",
        "\n",
        "\n",
        "\n",
        "##keys() Method                                                    # get keys stored in the dict.\n",
        "# car.keys()\n",
        "\n",
        "\n",
        "\n",
        "\n",
        "##values() Method                                                  # get values stored in the dict.\n",
        "# car.values()\n",
        "\n",
        "\n",
        "\n",
        "\n",
        "## POP() Method                                                    # used to delete the key&value pair from the dict.\n",
        "## print(car)\n",
        "\n",
        "# car.pop(\"brand\")\n",
        "# print(car)\n",
        "\n",
        "\n",
        "\n",
        "\n",
        "## popitem() Method                                                 # last element(key&value pair) of the dict. gets deleted.\n",
        "\n",
        "# car.popitem()\n",
        "# print(car)\n",
        "\n",
        "\n",
        "\n",
        "\n",
        "## update() Method                                                  # used to add an element(key&value pair) in the dict.\n",
        "\n",
        "# car.update({\"color\":\"Matte Black\"})\n",
        "# print(car)\n",
        "\n",
        "\n",
        "\n",
        "\n",
        "#clear() Method\n",
        "# car.clear()\n",
        "# print(car)\n",
        "\n",
        "\n",
        "\n",
        "\n",
        "\n"
      ],
      "metadata": {
        "colab": {
          "base_uri": "https://localhost:8080/"
        },
        "id": "FSaD8LQaubI6",
        "outputId": "34040e1e-db1b-4b08-99cb-3d65ba3ca606"
      },
      "execution_count": 33,
      "outputs": [
        {
          "output_type": "stream",
          "name": "stdout",
          "text": [
            "{}\n"
          ]
        }
      ]
    },
    {
      "cell_type": "markdown",
      "source": [
        "# **SETs** {}\n",
        "\n",
        "\n",
        "*   Sets are used to store multiple item in a single variable.\n",
        "*   Sets are written with curly brackets. unordered*\n",
        "\n",
        "*Methods*\n",
        "\n",
        "\n",
        "1.   add()\n",
        "2.   pop()\n",
        "3.   remove()\n"
      ],
      "metadata": {
        "id": "1li8Zudn6xHh"
      }
    },
    {
      "cell_type": "code",
      "source": [
        "# fruits = {'apple','mango','cherry','banana','grapes'}\n",
        "# print(fruits)\n",
        "\n",
        "\n",
        "\n",
        "# #add() Method                                                         # adds the element randomly\n",
        "\n",
        "# fruits.add('orange')\n",
        "# print(fruits)\n",
        "\n",
        "\n",
        "\n",
        "\n",
        "# #pop() Method                                                         # delete an element randomly\n",
        "\n",
        "# fruits.pop()\n",
        "# print(fruits)\n",
        "\n",
        "\n",
        "\n",
        "\n",
        "# #remove() Method                                                      # removes a particular element\n",
        "\n",
        "# fruits.remove('mango')\n",
        "# print(fruits)\n",
        "\n"
      ],
      "metadata": {
        "colab": {
          "base_uri": "https://localhost:8080/"
        },
        "id": "nNiRSDLT-jzE",
        "outputId": "780d28af-40b4-41c1-8115-d3702333ad85"
      },
      "execution_count": 56,
      "outputs": [
        {
          "output_type": "stream",
          "name": "stdout",
          "text": [
            "{'apple', 'grapes', 'mango', 'banana', 'cherry'}\n",
            "{'apple', 'grapes', 'mango', 'banana', 'orange', 'cherry'}\n",
            "{'grapes', 'mango', 'banana', 'orange', 'cherry'}\n",
            "{'grapes', 'banana', 'orange', 'cherry'}\n"
          ]
        }
      ]
    },
    {
      "cell_type": "markdown",
      "source": [
        "# ***Advanced Methods***\n",
        "\n",
        "\n",
        "\n",
        "1.   difference()\n",
        "2.   intersection()\n",
        "3.   union()\n",
        "4.   update()"
      ],
      "metadata": {
        "id": "H4ldOqs2Bjmj"
      }
    },
    {
      "cell_type": "code",
      "source": [
        "# x = {'apple','mango','pineapple','cherry'}\n",
        "# y = {'orange','mango','grapes'}\n",
        "# print(x,y)\n",
        "\n",
        "\n",
        "\n",
        "\n",
        "# #difference() Method                                                      # difference of one set to another [1 -> 2]  or [ 2 -> 1]\n",
        "\n",
        "# print(x.difference(y))\n",
        "\n",
        "# print(y.difference(x))\n",
        "\n",
        "\n",
        "\n",
        "\n",
        "# #intersection() Method                                                     # give the common element between the two\n",
        "\n",
        "# print(y.intersection(x))\n",
        "# print(x.intersection(y))\n",
        "\n",
        "\n",
        "\n",
        "\n",
        "# #union() Method                                                            # merges the sets together but in random order\n",
        "\n",
        "# print(x.union(y))\n",
        "# print(y.union(x))\n",
        "\n",
        "\n",
        "\n",
        "\n",
        "# #update() Method                                                           # similar as union\n",
        "\n",
        "# x.update(y)\n",
        "# print(x)"
      ],
      "metadata": {
        "colab": {
          "base_uri": "https://localhost:8080/"
        },
        "id": "Y3dRuNTB-tuR",
        "outputId": "fc7955b6-1420-4e99-fe77-9d95018aea30"
      },
      "execution_count": 75,
      "outputs": [
        {
          "output_type": "stream",
          "name": "stdout",
          "text": [
            "{'apple', 'mango', 'grapes', 'pineapple', 'orange', 'cherry'}\n",
            "{'mango', 'grapes', 'apple', 'pineapple', 'orange', 'cherry'}\n",
            "{'apple', 'mango', 'grapes', 'pineapple', 'orange', 'cherry'}\n"
          ]
        }
      ]
    }
  ]
}