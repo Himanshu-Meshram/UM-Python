{
  "nbformat": 4,
  "nbformat_minor": 0,
  "metadata": {
    "colab": {
      "provenance": [],
      "authorship_tag": "ABX9TyPa52hutIVusiBMhMgjWKJS",
      "include_colab_link": true
    },
    "kernelspec": {
      "name": "python3",
      "display_name": "Python 3"
    },
    "language_info": {
      "name": "python"
    }
  },
  "cells": [
    {
      "cell_type": "markdown",
      "metadata": {
        "id": "view-in-github",
        "colab_type": "text"
      },
      "source": [
        "<a href=\"https://colab.research.google.com/github/Himanshu-Meshram/UM-Python/blob/main/UM_DAY2.ipynb\" target=\"_parent\"><img src=\"https://colab.research.google.com/assets/colab-badge.svg\" alt=\"Open In Colab\"/></a>"
      ]
    },
    {
      "cell_type": "markdown",
      "source": [
        "# Day2\n",
        "\n",
        "**LIST ANS ITS METHODS**\n",
        "\n",
        "  List are used to store multiple items in a single variable.\n",
        "\n",
        "\n",
        "*   Lists are used to store multiple items in a single variables.\n",
        "*   It is a collection which is ordered, changeable and allows duplicate members.\n",
        "\n",
        "**List Methods**\n",
        "\n",
        "***append()***    -    USED TO **ADD ITEMS** IN THE VARIABLES.\n",
        "\n",
        "***sort()***      -    USED TO **SORT NUMBERS** IN TERMS OF ACES. OR DECES. ORDER\n",
        "                 IN LETTERS,WORDS,SENTENCES  .SORTING IS DONE ALPHABETICAL WISE.\n",
        "\n",
        "***reverse()***   -    **REVERSE THE ORDER** OF THE ELEMENTS.\n",
        "\n",
        "***remove()***    -    USE TO **REMOVE** SPECIFIC VALUES/ELEMENTS BY\n",
        "                 **WRITING THE ELEMENT** IN THE LIST\n",
        "\n",
        "***pop()***       -    USED TO **DELETE ELEMENTS**  BY DEFINING THE **ELEMENT NUMBER**\n",
        "\n",
        "***insert()***    -    USED TO ADD ELEMENTS AT DESIRED PLACE BY\n",
        "                  **SEQUENCE NUMBER  AND ENTERING VALUE**\n",
        "\n",
        "***index()***     -    USED TO KNOW THE VALUE **PLACE/LOCATION.**\n",
        "\n",
        "\n",
        "---\n",
        "\n",
        "\n",
        "\n",
        "---\n",
        "\n",
        "\n",
        "\n",
        "***extent()***    -    USED TO ADD **ONE LIST TO AN ANOTHER LIST**\n",
        "\n",
        "***count()***     -    USED TO COUNT **HOW MANY TIMES** THE SPECIFIC ELEMENT IS OCCURED\n",
        "\n",
        "***copy()***      -    USED TO CRETE A COPY OF A ORIGINAL LIST. ##can be used to try and error things.\n",
        "\n",
        "***clear()***     -    USED TO DELETE ALL ELEMENTS IN THE LIST AT ONCES.\n",
        "\n",
        "\n"
      ],
      "metadata": {
        "id": "cZrn9I_4L40k"
      }
    },
    {
      "cell_type": "code",
      "source": [
        "#  P  Y  T  H   O  N\n",
        "#  0  1  2  3   4  5     +VE INDEXING\n",
        "# -6 -5 -4 -6  -2 -1     -BE INDEXING"
      ],
      "metadata": {
        "id": "qEr71N8cMLGD"
      },
      "execution_count": null,
      "outputs": []
    },
    {
      "cell_type": "code",
      "source": [
        "fruits = ['apple', 'mango', 'peaches', 'grapes', 'banana', 'orange']\n",
        "\n",
        "fruits.append(\"stone\")\n",
        "fruits.sort()\n",
        "fruits.reverse()\n",
        "fruits.remove(\"stone\")\n",
        "fruits.pop(2)\n",
        "fruits.insert(2,\"mango\")\n",
        "fruits.index(\"mango\")\n",
        "\n",
        "others = ['ball','sky','laser','water','park']\n",
        "\n",
        "fruits.extend(others)\n",
        "fruits.count(\"orange\")\n",
        "fruits.copy()\n",
        "fruits.clear()\n",
        "#print(fruits)\n",
        "\n"
      ],
      "metadata": {
        "colab": {
          "base_uri": "https://localhost:8080/"
        },
        "id": "ASFRc7QVM8Au",
        "outputId": "805bec05-f58c-40b9-cf85-e082e2f93511"
      },
      "execution_count": null,
      "outputs": [
        {
          "output_type": "stream",
          "name": "stdout",
          "text": [
            "[]\n"
          ]
        }
      ]
    },
    {
      "cell_type": "markdown",
      "source": [
        "# STRING AND ITS METHODS\n",
        "\n",
        "\n",
        "* All String methods returns new values. They do not change the original string\n",
        "\n",
        "**String Methods**\n",
        "\n",
        "\n",
        "   * ***split()*** - **splits each elements** of the sentence.\n",
        "   * ***index()*** - used to **locate what position** the element is stored\n",
        "   * ***find()***         #not better then index()\n",
        "   * ***count()***  - **how many times** the given element is appeared\n",
        "   * ***capitalize()*** - **capitalizes the first letter.**\n",
        "\n",
        "   \n",
        "\n",
        "---\n",
        "\n",
        "---\n",
        "\n",
        "   * ***isdigit()*** - check if the element **is digit or not** same as numeric\n",
        "   * ***isnumeric()*** - checks if the element **is numerical** or not\n",
        "   * ***isalpha()*** - checks if the element **is alphabetical** or not\n",
        "   * ***isalnum()*** - checks if the element **is alphanumeric** i.e either *numeric value or alphabet or both*\n",
        "   * ***endswith()*** - checks if the statement **ends with the defined value**\n",
        "   * ***startswith()*** - checks if the statement **starts with the defined value**\n",
        "   * ***join()*** - joins the elements in a **single statement.**\n",
        "   * ***replace()*** - used to **replace element/s** in the statement\n",
        "   *\n",
        "   * ***islower()*** -\n",
        "   * ***lower()*** -\n",
        "   * ***strip()*** -\n",
        "   * ***upper()*** -\n",
        "   * ***swapcase()*** -\n",
        "\n"
      ],
      "metadata": {
        "id": "PyesyNRHZCUO"
      }
    },
    {
      "cell_type": "code",
      "source": [
        "txt = \"hello, my name is him\"\n",
        "a = txt.capitalize()\n",
        "print(a)\n",
        "\n",
        "\n",
        "txt = \"hello, my name is him\"\n",
        "a = txt.count('him')\n",
        "print(a)\n",
        "\n",
        "\n",
        "txt = \"hello, my name is him. him is male candidate.\"\n",
        "a = txt.count('him')\n",
        "print(a)\n",
        "\n",
        "\n",
        "txt = \"hello, my name is him. him is male candidate.\"\n",
        "a = txt.find ('him')\n",
        "print(a)\n",
        "\n",
        "\n",
        "txt = \"hello, my name is him. him is male candidate.\"\n",
        "a = txt.find('yus')\n",
        "print(a)\n",
        "\n",
        "\n",
        "txt = \"hello, my name is him. him is male candidate.\"\n",
        "a = txt.index('him')\n",
        "print(a)\n",
        "\n",
        "\n",
        "txt = \"hello, my name is him. him is male candidate.\"\n",
        "a = txt.split()\n",
        "print(a)\n",
        "\n",
        "txt = \"hello, my name is him, him is male candidate.\"\n",
        "a = txt.split('')\n",
        "print(a)\n"
      ],
      "metadata": {
        "colab": {
          "base_uri": "https://localhost:8080/"
        },
        "id": "QdNY7bUVWkX7",
        "outputId": "fa6363b2-aa2b-404a-9332-9b1e818f50b9"
      },
      "execution_count": null,
      "outputs": [
        {
          "output_type": "stream",
          "name": "stdout",
          "text": [
            "Hello, my name is him\n",
            "1\n",
            "2\n",
            "18\n",
            "-1\n",
            "18\n",
            "['hello,', 'my', 'name', 'is', 'him.', 'him', 'is', 'male', 'candidate.']\n",
            "['hello', ' my name is him', ' him is male candidate.']\n"
          ]
        }
      ]
    },
    {
      "cell_type": "code",
      "source": [
        "#txt = 'computer system'\n",
        "#name = txt.title()\n",
        "#print(name)\n",
        "\n",
        "\n",
        "\n",
        "txt = 'computer system'\n",
        "name = txt.isalnum()\n",
        "print(name)\n",
        "\n",
        "txt = 'Computer'\n",
        "name = txt.isalnum()\n",
        "print(name)\n",
        "\n",
        "txt = ' '\n",
        "name = txt.isalnum()\n",
        "print(name)\n",
        "\n",
        "\n",
        "#\n",
        "\n",
        "txt = 'Computer'\n",
        "name = txt.isalpha()\n",
        "print(name)\n",
        "\n",
        "txt = 'Computer1'\n",
        "name = txt.isalpha()\n",
        "print(name)\n",
        "\n",
        "\n",
        "#\n",
        "\n",
        "\n",
        "txt = 'Computer1'\n",
        "name = txt.isnumeric()\n",
        "print(name)\n",
        "\n",
        "txt = '51541'\n",
        "name = txt.isnumeric()\n",
        "print(name)\n",
        "\n",
        "\n",
        "#\n",
        "\n",
        "\n",
        "txt = '5444541'\n",
        "name = txt.isdigit()\n",
        "print(name)\n",
        "\n",
        "\n",
        "#\n",
        "\n",
        "\n",
        "names = ['james','him','sam']\n",
        "joined = '_'.join(names)\n",
        "print(joined)\n",
        "\n",
        "names = ['sam','sun','manoj','him']\n",
        "joined =\"_\".join(names)\n",
        "print(joined)\n",
        "\n",
        "names = ['Himanshu','Manoj','Meshram']\n",
        "joined =\"_\".join(names)\n",
        "print(joined)\n",
        "\n",
        "\n",
        "#\n",
        "\n",
        "\n",
        "names = 'i love sports'\n",
        "#result = names.replace()\n",
        "print(names)\n",
        "\n",
        "\n",
        "names = 'i love sports'\n",
        "result = names.replace('love','hate')\n",
        "print(result)\n",
        "\n",
        "\n",
        "names = 'i love magic'\n",
        "result = names.replace('love','magic')\n",
        "print(result)\n",
        "\n",
        "\n",
        "#\n",
        "\n",
        "\n",
        "txt = \"Hello, Myname is him.\"\n",
        "start = txt.startswith(\"Hello\")\n",
        "end = txt.endswith(\".\")\n",
        "\n",
        "(start,end)\n",
        "\n",
        "\n",
        "#\n",
        "\n",
        "\n",
        "txt = \"Hello, Myname is him.\"\n",
        "start = txt.startswith(\"Hello\")\n",
        "end = txt.endswith(\"?\")\n",
        "\n",
        "(start,end)\n",
        "\n"
      ],
      "metadata": {
        "colab": {
          "base_uri": "https://localhost:8080/"
        },
        "id": "rA8Tv2hagZVO",
        "outputId": "db5a9826-f4d1-4bfe-b655-be97d028e01c"
      },
      "execution_count": null,
      "outputs": [
        {
          "output_type": "stream",
          "name": "stdout",
          "text": [
            "False\n",
            "True\n",
            "False\n",
            "True\n",
            "False\n",
            "False\n",
            "True\n",
            "True\n",
            "james_him_sam\n",
            "sam_sun_manoj_him\n",
            "Himanshu_Manoj_Meshram\n",
            "i love sports\n",
            "i hate sports\n",
            "i magic magic\n"
          ]
        },
        {
          "output_type": "execute_result",
          "data": {
            "text/plain": [
              "(True, False)"
            ]
          },
          "metadata": {},
          "execution_count": 87
        }
      ]
    },
    {
      "cell_type": "code",
      "source": [],
      "metadata": {
        "id": "brvIesMTpWNm"
      },
      "execution_count": null,
      "outputs": []
    }
  ]
}