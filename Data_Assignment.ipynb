{
  "nbformat": 4,
  "nbformat_minor": 0,
  "metadata": {
    "colab": {
      "provenance": [],
      "authorship_tag": "ABX9TyP3xOv+Ip1QMqN7K+68gJVC",
      "include_colab_link": true
    },
    "kernelspec": {
      "name": "python3",
      "display_name": "Python 3"
    },
    "language_info": {
      "name": "python"
    }
  },
  "cells": [
    {
      "cell_type": "markdown",
      "metadata": {
        "id": "view-in-github",
        "colab_type": "text"
      },
      "source": [
        "<a href=\"https://colab.research.google.com/github/Himanshu-Meshram/UM-Python/blob/main/Data_Assignment.ipynb\" target=\"_parent\"><img src=\"https://colab.research.google.com/assets/colab-badge.svg\" alt=\"Open In Colab\"/></a>"
      ]
    },
    {
      "cell_type": "markdown",
      "source": [
        "# **Data Cleaning and Visualization**\n",
        "*  numpy  lib\n",
        "*  pandas  lib\n",
        "*   data.shape\n",
        "*   data.describe()\n",
        "*   list.data()\n",
        "*   isnull()\n",
        "*   isnull().sum()\n",
        "*  seaborn lib\n",
        "\n"
      ],
      "metadata": {
        "id": "AMHNiCyl2T2y"
      }
    },
    {
      "cell_type": "code",
      "source": [
        "import numpy as np\n",
        "import pandas as pd\n",
        "\n",
        "data = pd.read_csv('/content/diabetes.csv')\n",
        "# data.head()\n",
        "# data.shape\n",
        "# data.describe()\n",
        "# list(data)\n",
        "# data.isnull()\n",
        "# data.isnull().sum()\n",
        "\n",
        "import seaborn as sns\n",
        "\n",
        "# sns.distplot(data['Insulin'])\n",
        "col = data['Insulin']\n",
        "col = col.fillna(col.median(),inplace = True)\n",
        "data.isnull().sum()"
      ],
      "metadata": {
        "id": "NYgJYLwI76_I"
      },
      "execution_count": null,
      "outputs": []
    }
  ]
}