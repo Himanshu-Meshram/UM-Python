{
  "nbformat": 4,
  "nbformat_minor": 0,
  "metadata": {
    "colab": {
      "provenance": [],
      "authorship_tag": "ABX9TyNWNmyXuVzz3cnr4a2oJyXP",
      "include_colab_link": true
    },
    "kernelspec": {
      "name": "python3",
      "display_name": "Python 3"
    },
    "language_info": {
      "name": "python"
    }
  },
  "cells": [
    {
      "cell_type": "markdown",
      "metadata": {
        "id": "view-in-github",
        "colab_type": "text"
      },
      "source": [
        "<a href=\"https://colab.research.google.com/github/Himanshu-Meshram/UM-Python/blob/main/%E2%AD%90DAY6_NUMPY.ipynb\" target=\"_parent\"><img src=\"https://colab.research.google.com/assets/colab-badge.svg\" alt=\"Open In Colab\"/></a>"
      ]
    },
    {
      "cell_type": "markdown",
      "source": [
        "# **Numpy Array Dimensions**\n",
        "\n",
        "Provides\n",
        "\n",
        "\n",
        "1.  An array object of arbitrary homogeneous items\n",
        "\n",
        "2.  Fast mathematical operations over arrays\n",
        "\n",
        "3.  Linear Algebra, Fourier Transforms, Random Number Generation.\n",
        "\n",
        "\n",
        "\n",
        "\n",
        "*  *   1D Array\n",
        "*  *   2D Array\n",
        "*  *   3D Array\n"
      ],
      "metadata": {
        "id": "zFQZ0kp5CH4w"
      }
    },
    {
      "cell_type": "code",
      "source": [
        "import numpy as np                                                                            # importing Numpy Library\n",
        "\n",
        "# A = np.array(5)                                                                             # Scalar Method\n",
        "\n",
        "# print(A)\n",
        "\n",
        "# np.ndim(A)                                                                                  # Dimension Statement\n",
        "\n",
        "\n",
        "One = np.array([1,2,3,5,6])\n",
        "Two = np.array([[5,8,4,6,9],[4,5,6,9,6]])\n",
        "Three = np.array([[[1,2,4,5,6],[4,6,8,4,5]],[[1,4,5,2,5],[8,9,5,4,6]]])\n",
        "\n",
        "# print(One)\n",
        "# print(Two)\n",
        "# print(Three)\n",
        "\n",
        "# np.ndim(One)\n",
        "# np.ndim(Two)\n",
        "# np.ndim(Three)\n",
        "\n",
        "\n",
        "\n"
      ],
      "metadata": {
        "colab": {
          "base_uri": "https://localhost:8080/"
        },
        "id": "gL01Oy7sDl2a",
        "outputId": "db749271-d4f2-4c00-aac5-250b8ced59d0"
      },
      "execution_count": null,
      "outputs": [
        {
          "output_type": "stream",
          "name": "stdout",
          "text": [
            "[[[1 2 4 5 6]\n",
            "  [4 6 8 4 5]]\n",
            "\n",
            " [[1 4 5 2 5]\n",
            "  [8 9 5 4 6]]]\n"
          ]
        }
      ]
    },
    {
      "cell_type": "markdown",
      "source": [
        "# **List vs Numpy Array**\n",
        "\n",
        "\n",
        "*   **Numpy Array -**\n",
        "    * Allows Similar Datatypes.\n",
        "    * Allows Mathematical Operations.\n",
        "    * Array are faster then lists.\n",
        "    * Array consumes less memory.\n",
        "\n",
        "*   **List -**\n",
        "    * Different Datatypes.\n",
        "    * Does not allows Mathematical Operations.\n",
        "\n"
      ],
      "metadata": {
        "id": "BpW6GgjJQgNr"
      }
    },
    {
      "cell_type": "code",
      "source": [
        "# List1 = [1,3.2,'apple']                                                                         # Different - Datatypes\n",
        "# arr = np.array([1,5,4,3,2])                                                                     # Similar - Datatypes\n",
        "\n",
        "# print(List1)\n",
        "# print(arr)\n",
        "\n",
        "\n",
        "\n",
        "#\n",
        "\n",
        "\n",
        "\n",
        "# arr = np.array([1,2,4.3,'apple'])                                                               # type conversion (converted num & float in string)\n",
        "# print(arr)\n",
        "\n",
        "\n",
        "\n",
        "#\n",
        "\n",
        "\n",
        "\n",
        "# arr = np.array([1,5,9,8,7,3])                                                                   # Allows Mathematical Operations\n",
        "# List1 = [1,4,5,2,6,8,9]\n",
        "# #\n",
        "\n",
        "# print(arr/2)\n",
        "\n",
        "# # print(List1/2)                                                                                # LIST Does not allows Mathematical Operations.\n",
        "\n",
        "\n"
      ],
      "metadata": {
        "colab": {
          "base_uri": "https://localhost:8080/"
        },
        "id": "UaYqutaXOPAI",
        "outputId": "200e8018-67d7-4739-e0a4-aba87bedc229"
      },
      "execution_count": null,
      "outputs": [
        {
          "output_type": "stream",
          "name": "stdout",
          "text": [
            "[0.5 2.5 4.5 4.  3.5 1.5]\n"
          ]
        }
      ]
    },
    {
      "cell_type": "code",
      "source": [],
      "metadata": {
        "id": "LTOatC2RwPdy"
      },
      "execution_count": null,
      "outputs": []
    },
    {
      "cell_type": "markdown",
      "source": [
        "# **Array Re-shaping**\n",
        "\n",
        "\n",
        "\n",
        "*   Reshaping means changing the shape of an array.\n",
        "*   reshape(row,column) - *1D to 2D*\n",
        "*   reshape(row,depth,column) - *1D to 3D*\n",
        "\n"
      ],
      "metadata": {
        "id": "imvjRjZ2qpXC"
      }
    },
    {
      "cell_type": "code",
      "source": [
        "\n",
        "# 1D into 2D\n",
        "\n",
        "\n",
        "# arr = np.array ([1,2,3,4,5,6,7,8,9,0])                                                         # 1D Array\n",
        "\n",
        "\n",
        "# arr1 = arr.reshape(5,2)                                                                        # reshape(row,column)\n",
        "# print(arr1)\n",
        "\n",
        "# arr2 = arr.reshape(2,5)\n",
        "# print(arr2)\n",
        "\n",
        "\n",
        "\n",
        "\n",
        "# 1D to 3D Array\n",
        "\n",
        "\n",
        "# arr = np.array ([1,2,3,5,4,6,7,8,9,0,88,99])\n",
        "# arrnew = arr.reshape(2,3,2)                                                                       # reshape(row,depth,column)\n",
        "# print(arrnew)\n",
        "#\n",
        "\n"
      ],
      "metadata": {
        "colab": {
          "base_uri": "https://localhost:8080/"
        },
        "id": "_K4CSsBBP4kN",
        "outputId": "afa17f0e-ee12-44c6-d0e4-e2b32c31f019"
      },
      "execution_count": null,
      "outputs": [
        {
          "output_type": "stream",
          "name": "stdout",
          "text": [
            "[[[ 1  2]\n",
            "  [ 3  5]\n",
            "  [ 4  6]]\n",
            "\n",
            " [[ 7  8]\n",
            "  [ 9  0]\n",
            "  [88 99]]]\n"
          ]
        }
      ]
    },
    {
      "cell_type": "code",
      "source": [],
      "metadata": {
        "id": "dU-Eiic-xZV0"
      },
      "execution_count": null,
      "outputs": []
    },
    {
      "cell_type": "markdown",
      "source": [
        "# **Array Indexing**\n",
        "\n",
        "\n",
        "\n",
        "*   Array Indexing is the same as accessing an array element.\n",
        "*   You can access an array element by referring to its index number.\n",
        "\n"
      ],
      "metadata": {
        "id": "dnMUqve-5EKr"
      }
    },
    {
      "cell_type": "code",
      "source": [
        "# arr = np.array([1,2,3,4,5,6])                                                                    # Accessing 1D Array\n",
        "# print(arr)\n",
        "\n",
        "# print(arr[1])\n",
        "# print(arr[3])\n",
        "\n",
        "\n",
        "#\n",
        "\n",
        "\n",
        "# print(arr[2]+arr[3])                                                                             # Addition of two Elements\n",
        "# print(arr[3]+arr[5])\n",
        "# print(arr[5]*arr[2])                                                                             # Multiplication of Elements\n",
        "# print(arr[4]/arr[1])                                                                             # Division of Elements\n",
        "# print(arr[2]*arr[5]-arr[4])                                                                      # Multiple actions on elements\n",
        "\n",
        "\n",
        "\n",
        "#\n",
        "\n",
        "\n",
        "\n",
        "# arr1 = np.array([[1,2,3,4,5,6],[1,2,3,4,5,6]])                                                      # Accessing 2D Array\n",
        "# print(arr1)\n",
        "\n",
        "# print(arr1[0,1])                                                                                    # 1st Row and 2nd Element\n",
        "# print(arr1[1,5])                                                                                    # arr([row,column])\n",
        "# print(arr1[1,4])\n",
        "\n",
        "\n",
        "#\n",
        "\n",
        "\n",
        "arr2 = np.array([[[1,2,3,4,5,6],[1,2,3,5,9,7]],[[4,5,6,1,2,9],[7,5,9,4,3,2]]])                         # Accessing 3D Array\n",
        "print(arr2)\n",
        "\n",
        "# print(arr2[1,1,1])                                                                                     # 2nd Matrix, 2nd Row, 2nd Column\n",
        "# print(arr2[1,0,3])                                                                                     # 2nd Matrix, 1st Row, 4th Column\n",
        "# print(arr2[1,1,0])                                                                                     # 2nd Matrix, 1st Row, 1st Column\n",
        "\n",
        "\n",
        "\n",
        "#\n",
        "\n",
        "\n",
        "\n"
      ],
      "metadata": {
        "colab": {
          "base_uri": "https://localhost:8080/"
        },
        "id": "Imo4UmJh5iU1",
        "outputId": "18f3d84f-4128-42c4-cb1a-4b17fc27663d"
      },
      "execution_count": null,
      "outputs": [
        {
          "output_type": "stream",
          "name": "stdout",
          "text": [
            "[[[1 2 3 4 5 6]\n",
            "  [1 2 3 5 9 7]]\n",
            "\n",
            " [[4 5 6 1 2 9]\n",
            "  [7 5 9 4 3 2]]]\n",
            "5\n",
            "1\n",
            "7\n"
          ]
        }
      ]
    },
    {
      "cell_type": "code",
      "source": [
        "\n"
      ],
      "metadata": {
        "id": "atykzji45dGK"
      },
      "execution_count": null,
      "outputs": []
    }
  ]
}