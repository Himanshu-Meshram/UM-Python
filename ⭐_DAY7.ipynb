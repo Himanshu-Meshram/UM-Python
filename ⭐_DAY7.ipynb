{
  "nbformat": 4,
  "nbformat_minor": 0,
  "metadata": {
    "colab": {
      "provenance": [],
      "authorship_tag": "ABX9TyN6rHRiFwGHoAIlQMH9vtXk",
      "include_colab_link": true
    },
    "kernelspec": {
      "name": "python3",
      "display_name": "Python 3"
    },
    "language_info": {
      "name": "python"
    }
  },
  "cells": [
    {
      "cell_type": "markdown",
      "metadata": {
        "id": "view-in-github",
        "colab_type": "text"
      },
      "source": [
        "<a href=\"https://colab.research.google.com/github/Himanshu-Meshram/UM-Python/blob/main/%E2%AD%90_DAY7.ipynb\" target=\"_parent\"><img src=\"https://colab.research.google.com/assets/colab-badge.svg\" alt=\"Open In Colab\"/></a>"
      ]
    },
    {
      "cell_type": "markdown",
      "source": [
        "# **Numpy Array Slicing**\n",
        "\n",
        "\n",
        "*   Slicing in Python means taking elelments from one given index to another given index.\n",
        "\n",
        "*   We pass slice instead of index like this : [start:end].\n",
        "\n",
        "*   We can also define the step, like this: [start:end:step].\n",
        "\n",
        "\n",
        "\n",
        "\n",
        "\n"
      ],
      "metadata": {
        "id": "IAqbcTZG8UlF"
      }
    },
    {
      "cell_type": "code",
      "source": [
        "import numpy as np\n",
        "\n",
        "arr = np.array ([1,2,3,4,5,6,7,8,9,10,11])                                                        # Accessing 1D array\n",
        "\n",
        "# print(arr)\n",
        "# print(arr[2])\n",
        "# print(arr[1:2])                                                                                 # [start:end]\n",
        "# print(arr[1:5])\n",
        "# print(arr[8:10])\n",
        "# print(arr[5:8])\n",
        "# print(arr[3:8])\n",
        "\n",
        "# print(arr[:5])\n",
        "# print(arr[1:11:2])\n",
        "# print(arr[:11:3])\n",
        "# print(arr[::2])\n",
        "# print(arr[::5])\n",
        "# print(arr[2::])\n",
        "# print(arr[4::])\n",
        "# print(arr[7::])\n",
        "\n",
        "\n",
        "# a1 = np.array([[1,2,3,4,5,6],[7,8,9,0,1,2],[3,4,5,6,7,8],[9,0,1,2,3,4]])                         # was trying to create a 4X4 martix\n",
        "# print(a1)\n",
        "# print(a1[1,1:4])                                                                                 #\n",
        "# print(a1[0:4,1])\n",
        "# print(a1[0:3,1])\n",
        "# print(a1[0:3,2])\n",
        "\n",
        "\n",
        "\n",
        "#\n",
        "\n",
        "\n",
        "\n",
        "# arr1 = np.array([[1,2,3,4,5,6],[7,8,9,0,1,2]])                                                     # Accessing 2D Array\n",
        "\n",
        "# print(arr1)\n",
        "# print(arr1[1,2:4])                                                                               # Slicing with columns\n",
        "# print(arr1[0,::2])                                                                               # [row, row:column:step]\n",
        "# print(arr1[1,1:4])\n",
        "# print(arr1[1,2:3])\n",
        "# print(arr1[1,0::2])\n",
        "\n",
        "# print(arr1[0:2,4])                                                                               # Slicing with row\n",
        "# print(arr1[0:3,4])                                                                               # [row:column:step ,elements]\n",
        "# print(arr1[:3,4])\n",
        "# print(arr1[::1,3])\n",
        "# print(arr1[::2,4])\n",
        "\n",
        "# print(arr1[0:2,0:2])                                                                              # Slicing with both rows and columns\n",
        "# print(arr1[0:2,1:3])\n",
        "## print(arr1[0:2,1:5])  ?\n",
        "## print(arr1[0:1,1:4])  ?\n",
        "\n",
        "\n",
        "\n",
        "#\n",
        "\n",
        "\n",
        "\n",
        "arr2 = np.array([[[1,2,3],[1,2,3],[1,2,3]],                                                    # Slicing 3D Array\n",
        "                [[1,2,3],[1,2,3],[1,3,2]],\n",
        "                [[1,2,3],[1,2,3],[1,2,3]]])\n",
        "print(arr2)\n",
        "# print(arr2.shape)\n",
        "# print(arr2[:2,1:,:2])                                                                                # [matrix:row:column]\n",
        "                                                                ## print (arr2[:2{matrix using},2:[rows using in those matrix],:3[columns using in that matrix]])\n",
        "# print(arr2[:3,:3,1:2])\n",
        "# print(arr2[:3,2:3,1:2])\n",
        "# print(arr2[1:2,1:2,2:3])\n",
        "# print(arr2[1:2,2:3,1:2])\n",
        "\n"
      ],
      "metadata": {
        "colab": {
          "base_uri": "https://localhost:8080/"
        },
        "id": "kmsPv2dc9ZWn",
        "outputId": "11d5f411-b394-483e-b7fd-184a689e98bb"
      },
      "execution_count": null,
      "outputs": [
        {
          "output_type": "stream",
          "name": "stdout",
          "text": [
            "[[[1 2 3]\n",
            "  [1 2 3]\n",
            "  [1 2 3]]\n",
            "\n",
            " [[1 2 3]\n",
            "  [1 2 3]\n",
            "  [1 3 2]]\n",
            "\n",
            " [[1 2 3]\n",
            "  [1 2 3]\n",
            "  [1 2 3]]]\n",
            "[[[3]]]\n"
          ]
        }
      ]
    },
    {
      "cell_type": "markdown",
      "source": [
        "# **View vs Copy**\n",
        "\n",
        "\n",
        "\n",
        "*   Copy is a new array, and the View is just a view of the original array.\n",
        "*   Any changes made to the ***copy*** will not affect original array.\n",
        "*   Any changes made to the ***view*** will afect the original array.\n",
        "\n"
      ],
      "metadata": {
        "id": "AWe563l0Ewaa"
      }
    },
    {
      "cell_type": "code",
      "source": [
        "arr = np.array([1,2,3,4,5,9,5,7])\n",
        "\n",
        "# copy = arr.copy()                                                                                 # Copy Method\n",
        "# copy[0] = 22\n",
        "# print(copy)\n",
        "\n",
        "# copy = arr.copy()                                                                                 # Modifing new array\n",
        "# copy[2] = 44\n",
        "# print(copy)\n",
        "\n",
        "# print(arr)                                                                                        # Doesnt effect the original one\n",
        "\n",
        "\n",
        "\n",
        "#\n",
        "\n",
        "\n",
        "\n",
        "arr1 = np.array([1,2,3,4,5,9,5,7])\n",
        "\n",
        "# view = arr1.view()                                                                                   # View Method\n",
        "# view[0] = 100                                                                                        # Modifing new array\n",
        "# print(view)\n",
        "# print (arr1)                                                                                         # Affecting original array\n",
        "\n",
        "\n",
        "\n",
        "\n",
        "\n",
        "\n",
        "\n",
        "\n",
        "\n",
        "\n",
        "\n",
        "\n",
        "\n",
        "\n",
        "\n",
        "\n",
        "\n",
        "\n",
        "\n"
      ],
      "metadata": {
        "colab": {
          "base_uri": "https://localhost:8080/"
        },
        "id": "IdWvhwag4SFu",
        "outputId": "68e67cad-5210-462d-d759-dd84f265844b"
      },
      "execution_count": null,
      "outputs": [
        {
          "output_type": "stream",
          "name": "stdout",
          "text": [
            "[100   2   3   4   5   9   5   7]\n",
            "[100   2   3   4   5   9   5   7]\n"
          ]
        }
      ]
    },
    {
      "cell_type": "markdown",
      "source": [
        "# **Numpy Major and Minor Operations**\n",
        "\n",
        "* Append, Insert and Delete Operations.\n",
        "\n",
        "\n",
        "\n",
        "\n",
        "\n"
      ],
      "metadata": {
        "id": "cJ6DxpqFo_9O"
      }
    },
    {
      "cell_type": "code",
      "source": [
        "import numpy as np                                                              # APPEND METHOD\n",
        "\n",
        "# a = np.array([[1,2,3],[4,5,6]])\n",
        "# print(a)\n",
        "\n",
        "\n",
        "# np.append(a,[7,8,9])\n",
        "# print(a)\n",
        "# np.append(a,[6,5,4])                                                                         # Not assigned where to add\n",
        "\n",
        "\n",
        "# a1 = np.append(a,[7,8,9])                                                                    # saving 1st append and re-appending\n",
        "# print(a1)\n",
        "# np.append(a1,[6,5,4])\n",
        "\n",
        "\n",
        "#\n",
        "\n",
        "#ROW                                                                                           # assigning where to add {0 = row ; 1 = column}\n",
        "\n",
        "# np.append(a,[[7,5,3]],axis=0)\n",
        "# np.append(a,[[11,22,33]],axis=0)                                                             # syntax (array,[[a,b,c]],axis=0)\n",
        "# np.append(a,[[66,55,44]],axis=0)                                                             # values = 'row size'\n",
        "\n",
        "# Column\n",
        "\n",
        "# np.append(a,[[9],[7]],axis=1)                                                                # syntax (array,[[a],[b]],axis=1)\n",
        "# np.append(a,[[44],[55]],axis=1)\n",
        "# np.append(a,[[88],[990]],axis=1)                                                             # values = 'column size'\n",
        "\n",
        "\n",
        "\n",
        "###-------------------------------------------------------------------------------------------------------------------------------------------------------------------------------------------\n",
        "\n",
        "\n",
        "\n",
        "#                                                                               # INSERT METHOD\n",
        "\n",
        "\n",
        "\n",
        "# a1 = np.array([[1,2],[4,5],[7,8]])                                                           # assigning where to add {0 = row ; 1 = column}\n",
        "# print(a1)\n",
        "\n",
        "#ROW\n",
        "\n",
        "# np.insert(a,2,[11,22])                                                                       # syntax (array, row position, [values],axis=0)\n",
        "# np.insert(a,1,[44,55,66],axis=0)                                                             # values = no. of elements in the column\n",
        "# np.insert(a,0,[69,69,69],axis=0)\n",
        "\n",
        "# Column\n",
        "\n",
        "# np.insert(a1,1,[56,45,84],axis=1)                                                            # syntax (array, column position, [values], axis = 1)\n",
        "# np.insert(a1,0,[00,00,00],axis=1)\n",
        "# np. insert(a1,2,[111,222,333],axis=1)\n",
        "\n",
        "\n",
        "\n",
        "###-------------------------------------------------------------------------------------------------------------------------------------------------------------------------------------------\n",
        "\n",
        "\n",
        "\n",
        "\n",
        "#                                                                               # DELETE METHOD\n",
        "\n",
        "\n",
        "# a2 = np.array([[1,2,3,44],[4,5,6,55],[7,8,9,66]])\n",
        "# print(a2)\n",
        "# np.ndim(a2)                                                                                    # 2D\n",
        "\n",
        "\n",
        "\n",
        "# INDEX\n",
        "\n",
        "# np.delete(a2,5)                                                                                # syntax (array, element position in the martix)\n",
        "# np.delete(a2,7)\n",
        "# np.delete(a2,9)\n",
        "\n",
        "# ROW\n",
        "\n",
        "# np.delete(a2,1,axis=0)                                                                         # syntax (array, position of the row, axis = 0)\n",
        "# np.delete(a2,2,axis=0)\n",
        "\n",
        "# COLUMN\n",
        "\n",
        "# np.delete(a2,0,axis = 1)                                                                       # syntax (array, position of the column, axis = 1)\n",
        "# np.delete(a2,3,axis = 1)\n",
        "\n",
        "\n",
        "\n",
        "###-------------------------------------------------------------------------------------------------------------------------------------------------------------------------------------------\n",
        "\n"
      ],
      "metadata": {
        "colab": {
          "base_uri": "https://localhost:8080/"
        },
        "id": "bGAVfy8yrClJ",
        "outputId": "52bce9c1-80f0-4631-c45c-d4d0b52af4d1"
      },
      "execution_count": 90,
      "outputs": [
        {
          "output_type": "stream",
          "name": "stdout",
          "text": [
            "[[ 1  2  3 44]\n",
            " [ 4  5  6 55]\n",
            " [ 7  8  9 66]]\n"
          ]
        },
        {
          "output_type": "execute_result",
          "data": {
            "text/plain": [
              "array([[1, 2, 3],\n",
              "       [4, 5, 6],\n",
              "       [7, 8, 9]])"
            ]
          },
          "metadata": {},
          "execution_count": 90
        }
      ]
    },
    {
      "cell_type": "markdown",
      "source": [
        "# **Hstack vs Vstack**\n",
        "\n",
        "\n",
        "\n",
        "*   Hstack is used to join two arrays Horizontally\n",
        "*   Vstack is used to join two arrays Vertically.\n",
        "\n"
      ],
      "metadata": {
        "id": "d7R8o3SXAWof"
      }
    },
    {
      "cell_type": "code",
      "source": [
        "\n",
        "a = np.array([1,2,3,4])                                                                            # Accessing arrays\n",
        "b = np.array([5,6,7,8])\n",
        "print(a,b)\n",
        "# print(np.ndim(a),np.ndim(b))                                                                       # dimension of the array\n",
        "\n",
        "\n",
        "                                                                                # Performing Hstack\n",
        "\n",
        "# ab = np.hstack((a,b))                                                                              # syntax {np.hstack((array1,array2))}\n",
        "# print(ab)\n",
        "\n",
        "                                                                                # Performing Vstack\n",
        "\n",
        "\n",
        "ab = np.vstack((a,b))                                                                                # syntax {np.vstack((array1,array2))}\n",
        "print(ab)\n",
        "\n",
        "\n",
        "\n"
      ],
      "metadata": {
        "colab": {
          "base_uri": "https://localhost:8080/"
        },
        "id": "D-MYYxPqA_-8",
        "outputId": "cea061d4-e09c-42bb-cacd-02480003250f"
      },
      "execution_count": 104,
      "outputs": [
        {
          "output_type": "stream",
          "name": "stdout",
          "text": [
            "[1 2 3 4] [5 6 7 8]\n",
            "[[1 2 3 4]\n",
            " [5 6 7 8]]\n"
          ]
        }
      ]
    },
    {
      "cell_type": "markdown",
      "source": [
        "# **Numpy Concatenation**\n",
        "\n",
        "\n",
        "\n",
        "*   It is used for joining two or more arrays of the same shape along a specified axis.\n",
        "\n",
        "\n",
        "Axis = 0, Adding new rows.\n",
        "\n",
        "Axis = 1, Adding new columns.\n",
        "\n"
      ],
      "metadata": {
        "id": "fdLrneolJpC2"
      }
    },
    {
      "cell_type": "code",
      "source": [
        "a=np.array([[1,2],[3,4]])\n",
        "b=np.array([[5,6],[7,8]])\n",
        "\n",
        "c=np.array([[9,8],[7,6]])\n",
        "d=np.array([[5,4],[3,2]])\n",
        "# print(a,b,c,d)\n",
        "\n",
        "\n",
        "# ab = np.concatenate((a,b),axis=0)                                                                # syntax {np.concatenate((array1,array2),axis=0)}\n",
        "# print(ab)\n",
        "\n",
        "# cd = np.concatenate((c,d),axis=1)                                                                # syntax {np.concatenate((array1,array2),axis=1)}\n",
        "# print(cd)\n"
      ],
      "metadata": {
        "colab": {
          "base_uri": "https://localhost:8080/"
        },
        "id": "fI7lT4lQKOwd",
        "outputId": "6802b496-b563-4c94-c6ad-2f17cc5b4d6a"
      },
      "execution_count": 122,
      "outputs": [
        {
          "output_type": "stream",
          "name": "stdout",
          "text": [
            "[[9 8 5 4]\n",
            " [7 6 3 2]]\n"
          ]
        }
      ]
    },
    {
      "cell_type": "code",
      "source": [],
      "metadata": {
        "id": "HEinmt1KKfCA"
      },
      "execution_count": null,
      "outputs": []
    }
  ]
}