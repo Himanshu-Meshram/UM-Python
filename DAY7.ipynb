{
  "nbformat": 4,
  "nbformat_minor": 0,
  "metadata": {
    "colab": {
      "provenance": [],
      "authorship_tag": "ABX9TyMww0J/CBB2oD/DJvnylLmZ",
      "include_colab_link": true
    },
    "kernelspec": {
      "name": "python3",
      "display_name": "Python 3"
    },
    "language_info": {
      "name": "python"
    }
  },
  "cells": [
    {
      "cell_type": "markdown",
      "metadata": {
        "id": "view-in-github",
        "colab_type": "text"
      },
      "source": [
        "<a href=\"https://colab.research.google.com/github/Himanshu-Meshram/UM-Python/blob/main/DAY7.ipynb\" target=\"_parent\"><img src=\"https://colab.research.google.com/assets/colab-badge.svg\" alt=\"Open In Colab\"/></a>"
      ]
    },
    {
      "cell_type": "markdown",
      "source": [
        "# **Numpy Array Slicing**\n",
        "\n",
        "\n",
        "*   Slicing in Python means taking elelments from one given index to another given index.\n",
        "\n",
        "*   We pass slice instead of index like this : [start:end].\n",
        "\n",
        "*   We can also define the step, like this: [start:end:step].\n",
        "\n",
        "\n",
        "\n",
        "\n",
        "\n"
      ],
      "metadata": {
        "id": "IAqbcTZG8UlF"
      }
    },
    {
      "cell_type": "code",
      "source": [
        "import numpy as np\n",
        "\n",
        "arr = np.array ([1,2,3,4,5,6,7,8,9,10,11])                                                        # Accessing 1D array\n",
        "\n",
        "# print(arr)\n",
        "# print(arr[2])\n",
        "# print(arr[1:2])                                                                                 # [start:end]\n",
        "# print(arr[1:5])\n",
        "# print(arr[8:10])\n",
        "# print(arr[5:8])\n",
        "# print(arr[3:8])\n",
        "\n",
        "# print(arr[:5])\n",
        "# print(arr[1:11:2])\n",
        "# print(arr[:11:3])\n",
        "# print(arr[::2])\n",
        "# print(arr[::5])\n",
        "# print(arr[2::])\n",
        "# print(arr[4::])\n",
        "# print(arr[7::])\n",
        "\n",
        "\n",
        "# a1 = np.array([[1,2,3,4,5,6],[7,8,9,0,1,2],[3,4,5,6,7,8],[9,0,1,2,3,4]])                         # was trying to create a 4X4 martix\n",
        "# print(a1)\n",
        "# print(a1[1,1:4])                                                                                 #\n",
        "# print(a1[0:4,1])\n",
        "# print(a1[0:3,1])\n",
        "# print(a1[0:3,2])\n",
        "\n",
        "\n",
        "\n",
        "#\n",
        "\n",
        "\n",
        "\n",
        "# arr1 = np.array([[1,2,3,4,5,6],[7,8,9,0,1,2]])                                                     # Accessing 2D Array\n",
        "\n",
        "# print(arr1)\n",
        "# print(arr1[1,2:4])                                                                               # Slicing with columns\n",
        "# print(arr1[0,::2])                                                                               # [row, row:column:step]\n",
        "# print(arr1[1,1:4])\n",
        "# print(arr1[1,2:3])\n",
        "# print(arr1[1,0::2])\n",
        "\n",
        "# print(arr1[0:2,4])                                                                               # Slicing with row\n",
        "# print(arr1[0:3,4])                                                                               # [row:column:step ,elements]\n",
        "# print(arr1[:3,4])\n",
        "# print(arr1[::1,3])\n",
        "# print(arr1[::2,4])\n",
        "\n",
        "# print(arr1[0:2,0:2])                                                                              # Slicing with both rows and columns\n",
        "# print(arr1[0:2,1:3])\n",
        "## print(arr1[0:2,1:5])  ?\n",
        "## print(arr1[0:1,1:4])  ?\n",
        "\n",
        "\n",
        "\n",
        "#\n",
        "\n",
        "\n",
        "\n",
        "arr2 = np.array([[[1,2,3],[1,2,3],[1,2,3]],                                                    # Slicing 3D Array\n",
        "                [[1,2,3],[1,2,3],[1,3,2]],\n",
        "                [[1,2,3],[1,2,3],[1,2,3]]])\n",
        "print(arr2)\n",
        "# print(arr2.shape)\n",
        "# print(arr2[:2,1:,:2])                                                                                # [matrix:row:column]\n",
        "                                                                ## print (arr2[:2{matrix using},2:[rows using in those matrix],:3[columns using in that matrix]])\n",
        "# print(arr2[:3,:3,1:2])\n",
        "# print(arr2[:3,2:3,1:2])\n",
        "# print(arr2[1:2,1:2,2:3])\n",
        "# print(arr2[1:2,2:3,1:2])\n",
        "\n"
      ],
      "metadata": {
        "colab": {
          "base_uri": "https://localhost:8080/"
        },
        "id": "kmsPv2dc9ZWn",
        "outputId": "11d5f411-b394-483e-b7fd-184a689e98bb"
      },
      "execution_count": 172,
      "outputs": [
        {
          "output_type": "stream",
          "name": "stdout",
          "text": [
            "[[[1 2 3]\n",
            "  [1 2 3]\n",
            "  [1 2 3]]\n",
            "\n",
            " [[1 2 3]\n",
            "  [1 2 3]\n",
            "  [1 3 2]]\n",
            "\n",
            " [[1 2 3]\n",
            "  [1 2 3]\n",
            "  [1 2 3]]]\n",
            "[[[3]]]\n"
          ]
        }
      ]
    },
    {
      "cell_type": "markdown",
      "source": [
        "# **View vs Copy**\n",
        "\n",
        "\n",
        "\n",
        "*   Copy is a new array, and the View is just a view of the original array.\n",
        "*   Any changes made to the ***copy*** will not affect original array.\n",
        "*   Any changes made to the ***view*** will afect the original array.\n",
        "\n"
      ],
      "metadata": {
        "id": "AWe563l0Ewaa"
      }
    },
    {
      "cell_type": "code",
      "source": [
        "arr = np.array([1,2,3,4,5,9,5,7])\n",
        "\n",
        "# copy = arr.copy()                                                                                 # Copy Method\n",
        "# copy[0] = 22\n",
        "# print(copy)\n",
        "\n",
        "# copy = arr.copy()                                                                                 # Modifing new array\n",
        "# copy[2] = 44\n",
        "# print(copy)\n",
        "\n",
        "# print(arr)                                                                                        # Doesnt effect the original one\n",
        "\n",
        "\n",
        "\n",
        "#\n",
        "\n",
        "\n",
        "\n",
        "arr1 = np.array([1,2,3,4,5,9,5,7])\n",
        "\n",
        "# view = arr1.view()                                                                                   # View Method\n",
        "# view[0] = 100                                                                                        # Modifing new array\n",
        "# print(view)\n",
        "# print (arr1)                                                                                         # Affecting original array\n",
        "\n",
        "\n",
        "\n",
        "\n",
        "\n",
        "\n",
        "\n",
        "\n",
        "\n",
        "\n",
        "\n",
        "\n",
        "\n",
        "\n",
        "\n",
        "\n",
        "\n",
        "\n",
        "\n"
      ],
      "metadata": {
        "colab": {
          "base_uri": "https://localhost:8080/"
        },
        "id": "IdWvhwag4SFu",
        "outputId": "68e67cad-5210-462d-d759-dd84f265844b"
      },
      "execution_count": 192,
      "outputs": [
        {
          "output_type": "stream",
          "name": "stdout",
          "text": [
            "[100   2   3   4   5   9   5   7]\n",
            "[100   2   3   4   5   9   5   7]\n"
          ]
        }
      ]
    },
    {
      "cell_type": "code",
      "source": [],
      "metadata": {
        "id": "LpfHHMFNFk4h"
      },
      "execution_count": null,
      "outputs": []
    }
  ]
}